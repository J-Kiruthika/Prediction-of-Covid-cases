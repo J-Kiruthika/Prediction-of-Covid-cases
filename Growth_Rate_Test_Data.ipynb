{
 "cells": [
  {
   "cell_type": "markdown",
   "metadata": {},
   "source": [
    "### Flipr Hackathon: Population Growth Computation"
   ]
  },
  {
   "cell_type": "markdown",
   "metadata": {},
   "source": [
    "**Package imports**"
   ]
  },
  {
   "cell_type": "code",
   "execution_count": 1,
   "metadata": {},
   "outputs": [],
   "source": [
    "import pandas as pd\n",
    "import numpy as np\n",
    "import locale\n",
    "from locale import atof"
   ]
  },
  {
   "cell_type": "markdown",
   "metadata": {},
   "source": [
    "**Test Dataset**"
   ]
  },
  {
   "cell_type": "code",
   "execution_count": 2,
   "metadata": {},
   "outputs": [],
   "source": [
    "df = pd.read_csv(r\"C:\\Users\\Aishwarya\\PROJECTS\\Flipr Hackathon\\csv files\\Test_dataset.csv\",encoding='cp1252')"
   ]
  },
  {
   "cell_type": "code",
   "execution_count": 3,
   "metadata": {
    "scrolled": true
   },
   "outputs": [
    {
     "name": "stdout",
     "output_type": "stream",
     "text": [
      "column type:\n",
      "City                     object\n",
      "State                    object\n",
      "Type                     object\n",
      "Population [2011]       float64\n",
      "Popuation [2001]        float64\n",
      "Sex Ratio               float64\n",
      "Median Age              float64\n",
      "Avg Temp                float64\n",
      "SWM                      object\n",
      "Toilets Avl             float64\n",
      "Water Purity            float64\n",
      "H Index                 float64\n",
      "Female Population       float64\n",
      "# of hospitals          float64\n",
      "Foreign Visitors        float64\n",
      "Rate For 10 Years(%)    float64\n",
      "dtype: object\n"
     ]
    }
   ],
   "source": [
    "df.head()\n",
    "\n",
    "df['Population [2011]'] = df['Population [2011]'].str.replace(',', '').astype(float)\n",
    "print(f\"column type:\\n{df.dtypes}\")"
   ]
  },
  {
   "cell_type": "code",
   "execution_count": 4,
   "metadata": {},
   "outputs": [
    {
     "name": "stdout",
     "output_type": "stream",
     "text": [
      "<class 'pandas.core.frame.DataFrame'>\n",
      "RangeIndex: 501 entries, 0 to 500\n",
      "Data columns (total 16 columns):\n",
      " #   Column                Non-Null Count  Dtype  \n",
      "---  ------                --------------  -----  \n",
      " 0   City                  501 non-null    object \n",
      " 1   State                 501 non-null    object \n",
      " 2   Type                  499 non-null    object \n",
      " 3   Population [2011]     495 non-null    float64\n",
      " 4   Popuation [2001]      0 non-null      float64\n",
      " 5   Sex Ratio             496 non-null    float64\n",
      " 6   Median Age            488 non-null    float64\n",
      " 7   Avg Temp              487 non-null    float64\n",
      " 8   SWM                   492 non-null    object \n",
      " 9   Toilets Avl           479 non-null    float64\n",
      " 10  Water Purity          482 non-null    float64\n",
      " 11  H Index               486 non-null    float64\n",
      " 12  Female Population     486 non-null    float64\n",
      " 13  # of hospitals        484 non-null    float64\n",
      " 14  Foreign Visitors      484 non-null    float64\n",
      " 15  Rate For 10 Years(%)  498 non-null    float64\n",
      "dtypes: float64(12), object(4)\n",
      "memory usage: 62.8+ KB\n"
     ]
    }
   ],
   "source": [
    "df.info()"
   ]
  },
  {
   "cell_type": "code",
   "execution_count": 5,
   "metadata": {},
   "outputs": [],
   "source": [
    "df['Population [2011]'].fillna(df['Population [2011]'].mean(),inplace=True)"
   ]
  },
  {
   "cell_type": "code",
   "execution_count": 6,
   "metadata": {},
   "outputs": [
    {
     "data": {
      "text/html": [
       "<div>\n",
       "<style scoped>\n",
       "    .dataframe tbody tr th:only-of-type {\n",
       "        vertical-align: middle;\n",
       "    }\n",
       "\n",
       "    .dataframe tbody tr th {\n",
       "        vertical-align: top;\n",
       "    }\n",
       "\n",
       "    .dataframe thead th {\n",
       "        text-align: right;\n",
       "    }\n",
       "</style>\n",
       "<table border=\"1\" class=\"dataframe\">\n",
       "  <thead>\n",
       "    <tr style=\"text-align: right;\">\n",
       "      <th></th>\n",
       "      <th>City</th>\n",
       "      <th>State</th>\n",
       "      <th>Type</th>\n",
       "      <th>Population [2011]</th>\n",
       "      <th>Popuation [2001]</th>\n",
       "      <th>Sex Ratio</th>\n",
       "      <th>Median Age</th>\n",
       "      <th>Avg Temp</th>\n",
       "      <th>SWM</th>\n",
       "      <th>Toilets Avl</th>\n",
       "      <th>Water Purity</th>\n",
       "      <th>H Index</th>\n",
       "      <th>Female Population</th>\n",
       "      <th># of hospitals</th>\n",
       "      <th>Foreign Visitors</th>\n",
       "      <th>Rate For 10 Years(%)</th>\n",
       "    </tr>\n",
       "  </thead>\n",
       "  <tbody>\n",
       "    <tr>\n",
       "      <th>0</th>\n",
       "      <td>Tuensang</td>\n",
       "      <td>Nagaland</td>\n",
       "      <td>T.C</td>\n",
       "      <td>36774.0</td>\n",
       "      <td>NaN</td>\n",
       "      <td>931.0</td>\n",
       "      <td>23.0</td>\n",
       "      <td>10.0</td>\n",
       "      <td>MEDIUM</td>\n",
       "      <td>94.0</td>\n",
       "      <td>114.0</td>\n",
       "      <td>0.253390</td>\n",
       "      <td>34237.0</td>\n",
       "      <td>17.0</td>\n",
       "      <td>2769.0</td>\n",
       "      <td>31.618294</td>\n",
       "    </tr>\n",
       "    <tr>\n",
       "      <th>1</th>\n",
       "      <td>Lakshmeshwar</td>\n",
       "      <td>Karnataka</td>\n",
       "      <td>T.M.C</td>\n",
       "      <td>36754.0</td>\n",
       "      <td>NaN</td>\n",
       "      <td>934.0</td>\n",
       "      <td>25.0</td>\n",
       "      <td>38.0</td>\n",
       "      <td>HIGH</td>\n",
       "      <td>62.0</td>\n",
       "      <td>160.0</td>\n",
       "      <td>0.192555</td>\n",
       "      <td>34328.0</td>\n",
       "      <td>13.0</td>\n",
       "      <td>636502.0</td>\n",
       "      <td>31.562500</td>\n",
       "    </tr>\n",
       "    <tr>\n",
       "      <th>2</th>\n",
       "      <td>Zira</td>\n",
       "      <td>Punjab</td>\n",
       "      <td>M.Cl.</td>\n",
       "      <td>36732.0</td>\n",
       "      <td>NaN</td>\n",
       "      <td>883.0</td>\n",
       "      <td>29.0</td>\n",
       "      <td>35.0</td>\n",
       "      <td>HIGH</td>\n",
       "      <td>63.0</td>\n",
       "      <td>105.0</td>\n",
       "      <td>0.887882</td>\n",
       "      <td>32434.0</td>\n",
       "      <td>17.0</td>\n",
       "      <td>242367.0</td>\n",
       "      <td>16.883148</td>\n",
       "    </tr>\n",
       "    <tr>\n",
       "      <th>3</th>\n",
       "      <td>Yawal</td>\n",
       "      <td>Maharashtra</td>\n",
       "      <td>M.Cl</td>\n",
       "      <td>36706.0</td>\n",
       "      <td>NaN</td>\n",
       "      <td>887.0</td>\n",
       "      <td>26.0</td>\n",
       "      <td>31.0</td>\n",
       "      <td>HIGH</td>\n",
       "      <td>60.0</td>\n",
       "      <td>174.0</td>\n",
       "      <td>0.407838</td>\n",
       "      <td>32558.0</td>\n",
       "      <td>11.0</td>\n",
       "      <td>4408916.0</td>\n",
       "      <td>16.883148</td>\n",
       "    </tr>\n",
       "    <tr>\n",
       "      <th>4</th>\n",
       "      <td>Thana Bhawan</td>\n",
       "      <td>Uttar Pradesh</td>\n",
       "      <td>N.P.</td>\n",
       "      <td>36669.0</td>\n",
       "      <td>NaN</td>\n",
       "      <td>877.0</td>\n",
       "      <td>28.0</td>\n",
       "      <td>39.0</td>\n",
       "      <td>LOW</td>\n",
       "      <td>92.0</td>\n",
       "      <td>153.0</td>\n",
       "      <td>0.324456</td>\n",
       "      <td>32159.0</td>\n",
       "      <td>23.0</td>\n",
       "      <td>3104060.0</td>\n",
       "      <td>31.600000</td>\n",
       "    </tr>\n",
       "  </tbody>\n",
       "</table>\n",
       "</div>"
      ],
      "text/plain": [
       "           City          State   Type  Population [2011]  Popuation [2001]  \\\n",
       "0      Tuensang       Nagaland    T.C            36774.0               NaN   \n",
       "1  Lakshmeshwar      Karnataka  T.M.C            36754.0               NaN   \n",
       "2          Zira         Punjab  M.Cl.            36732.0               NaN   \n",
       "3         Yawal    Maharashtra   M.Cl            36706.0               NaN   \n",
       "4  Thana Bhawan  Uttar Pradesh   N.P.            36669.0               NaN   \n",
       "\n",
       "   Sex Ratio  Median Age  Avg Temp     SWM  Toilets Avl  Water Purity  \\\n",
       "0      931.0        23.0      10.0  MEDIUM         94.0         114.0   \n",
       "1      934.0        25.0      38.0    HIGH         62.0         160.0   \n",
       "2      883.0        29.0      35.0    HIGH         63.0         105.0   \n",
       "3      887.0        26.0      31.0    HIGH         60.0         174.0   \n",
       "4      877.0        28.0      39.0     LOW         92.0         153.0   \n",
       "\n",
       "    H Index  Female Population  # of hospitals  Foreign Visitors  \\\n",
       "0  0.253390            34237.0            17.0            2769.0   \n",
       "1  0.192555            34328.0            13.0          636502.0   \n",
       "2  0.887882            32434.0            17.0          242367.0   \n",
       "3  0.407838            32558.0            11.0         4408916.0   \n",
       "4  0.324456            32159.0            23.0         3104060.0   \n",
       "\n",
       "   Rate For 10 Years(%)  \n",
       "0             31.618294  \n",
       "1             31.562500  \n",
       "2             16.883148  \n",
       "3             16.883148  \n",
       "4             31.600000  "
      ]
     },
     "execution_count": 6,
     "metadata": {},
     "output_type": "execute_result"
    }
   ],
   "source": [
    "df.head()"
   ]
  },
  {
   "cell_type": "code",
   "execution_count": 7,
   "metadata": {},
   "outputs": [],
   "source": [
    "df['Type']=df['Type'].str.replace('.','')"
   ]
  },
  {
   "cell_type": "code",
   "execution_count": 8,
   "metadata": {},
   "outputs": [
    {
     "data": {
      "text/html": [
       "<div>\n",
       "<style scoped>\n",
       "    .dataframe tbody tr th:only-of-type {\n",
       "        vertical-align: middle;\n",
       "    }\n",
       "\n",
       "    .dataframe tbody tr th {\n",
       "        vertical-align: top;\n",
       "    }\n",
       "\n",
       "    .dataframe thead th {\n",
       "        text-align: right;\n",
       "    }\n",
       "</style>\n",
       "<table border=\"1\" class=\"dataframe\">\n",
       "  <thead>\n",
       "    <tr style=\"text-align: right;\">\n",
       "      <th></th>\n",
       "      <th>City</th>\n",
       "      <th>State</th>\n",
       "      <th>Type</th>\n",
       "      <th>Population [2011]</th>\n",
       "      <th>Popuation [2001]</th>\n",
       "      <th>Sex Ratio</th>\n",
       "      <th>Median Age</th>\n",
       "      <th>Avg Temp</th>\n",
       "      <th>SWM</th>\n",
       "      <th>Toilets Avl</th>\n",
       "      <th>Water Purity</th>\n",
       "      <th>H Index</th>\n",
       "      <th>Female Population</th>\n",
       "      <th># of hospitals</th>\n",
       "      <th>Foreign Visitors</th>\n",
       "      <th>Rate For 10 Years(%)</th>\n",
       "    </tr>\n",
       "  </thead>\n",
       "  <tbody>\n",
       "    <tr>\n",
       "      <th>0</th>\n",
       "      <td>Tuensang</td>\n",
       "      <td>Nagaland</td>\n",
       "      <td>TC</td>\n",
       "      <td>36774.0</td>\n",
       "      <td>NaN</td>\n",
       "      <td>931.0</td>\n",
       "      <td>23.0</td>\n",
       "      <td>10.0</td>\n",
       "      <td>MEDIUM</td>\n",
       "      <td>94.0</td>\n",
       "      <td>114.0</td>\n",
       "      <td>0.253390</td>\n",
       "      <td>34237.0</td>\n",
       "      <td>17.0</td>\n",
       "      <td>2769.0</td>\n",
       "      <td>31.618294</td>\n",
       "    </tr>\n",
       "    <tr>\n",
       "      <th>1</th>\n",
       "      <td>Lakshmeshwar</td>\n",
       "      <td>Karnataka</td>\n",
       "      <td>TMC</td>\n",
       "      <td>36754.0</td>\n",
       "      <td>NaN</td>\n",
       "      <td>934.0</td>\n",
       "      <td>25.0</td>\n",
       "      <td>38.0</td>\n",
       "      <td>HIGH</td>\n",
       "      <td>62.0</td>\n",
       "      <td>160.0</td>\n",
       "      <td>0.192555</td>\n",
       "      <td>34328.0</td>\n",
       "      <td>13.0</td>\n",
       "      <td>636502.0</td>\n",
       "      <td>31.562500</td>\n",
       "    </tr>\n",
       "    <tr>\n",
       "      <th>2</th>\n",
       "      <td>Zira</td>\n",
       "      <td>Punjab</td>\n",
       "      <td>MCl</td>\n",
       "      <td>36732.0</td>\n",
       "      <td>NaN</td>\n",
       "      <td>883.0</td>\n",
       "      <td>29.0</td>\n",
       "      <td>35.0</td>\n",
       "      <td>HIGH</td>\n",
       "      <td>63.0</td>\n",
       "      <td>105.0</td>\n",
       "      <td>0.887882</td>\n",
       "      <td>32434.0</td>\n",
       "      <td>17.0</td>\n",
       "      <td>242367.0</td>\n",
       "      <td>16.883148</td>\n",
       "    </tr>\n",
       "    <tr>\n",
       "      <th>3</th>\n",
       "      <td>Yawal</td>\n",
       "      <td>Maharashtra</td>\n",
       "      <td>MCl</td>\n",
       "      <td>36706.0</td>\n",
       "      <td>NaN</td>\n",
       "      <td>887.0</td>\n",
       "      <td>26.0</td>\n",
       "      <td>31.0</td>\n",
       "      <td>HIGH</td>\n",
       "      <td>60.0</td>\n",
       "      <td>174.0</td>\n",
       "      <td>0.407838</td>\n",
       "      <td>32558.0</td>\n",
       "      <td>11.0</td>\n",
       "      <td>4408916.0</td>\n",
       "      <td>16.883148</td>\n",
       "    </tr>\n",
       "    <tr>\n",
       "      <th>4</th>\n",
       "      <td>Thana Bhawan</td>\n",
       "      <td>Uttar Pradesh</td>\n",
       "      <td>NP</td>\n",
       "      <td>36669.0</td>\n",
       "      <td>NaN</td>\n",
       "      <td>877.0</td>\n",
       "      <td>28.0</td>\n",
       "      <td>39.0</td>\n",
       "      <td>LOW</td>\n",
       "      <td>92.0</td>\n",
       "      <td>153.0</td>\n",
       "      <td>0.324456</td>\n",
       "      <td>32159.0</td>\n",
       "      <td>23.0</td>\n",
       "      <td>3104060.0</td>\n",
       "      <td>31.600000</td>\n",
       "    </tr>\n",
       "  </tbody>\n",
       "</table>\n",
       "</div>"
      ],
      "text/plain": [
       "           City          State Type  Population [2011]  Popuation [2001]  \\\n",
       "0      Tuensang       Nagaland   TC            36774.0               NaN   \n",
       "1  Lakshmeshwar      Karnataka  TMC            36754.0               NaN   \n",
       "2          Zira         Punjab  MCl            36732.0               NaN   \n",
       "3         Yawal    Maharashtra  MCl            36706.0               NaN   \n",
       "4  Thana Bhawan  Uttar Pradesh   NP            36669.0               NaN   \n",
       "\n",
       "   Sex Ratio  Median Age  Avg Temp     SWM  Toilets Avl  Water Purity  \\\n",
       "0      931.0        23.0      10.0  MEDIUM         94.0         114.0   \n",
       "1      934.0        25.0      38.0    HIGH         62.0         160.0   \n",
       "2      883.0        29.0      35.0    HIGH         63.0         105.0   \n",
       "3      887.0        26.0      31.0    HIGH         60.0         174.0   \n",
       "4      877.0        28.0      39.0     LOW         92.0         153.0   \n",
       "\n",
       "    H Index  Female Population  # of hospitals  Foreign Visitors  \\\n",
       "0  0.253390            34237.0            17.0            2769.0   \n",
       "1  0.192555            34328.0            13.0          636502.0   \n",
       "2  0.887882            32434.0            17.0          242367.0   \n",
       "3  0.407838            32558.0            11.0         4408916.0   \n",
       "4  0.324456            32159.0            23.0         3104060.0   \n",
       "\n",
       "   Rate For 10 Years(%)  \n",
       "0             31.618294  \n",
       "1             31.562500  \n",
       "2             16.883148  \n",
       "3             16.883148  \n",
       "4             31.600000  "
      ]
     },
     "execution_count": 8,
     "metadata": {},
     "output_type": "execute_result"
    }
   ],
   "source": [
    "df.head()"
   ]
  },
  {
   "cell_type": "markdown",
   "metadata": {},
   "source": [
    "**Creating values of Population Growth rate based on the Average growth rate from train dataset for each city type**"
   ]
  },
  {
   "cell_type": "code",
   "execution_count": 9,
   "metadata": {},
   "outputs": [
    {
     "data": {
      "text/plain": [
       "0      31.618294\n",
       "1      31.562500\n",
       "2      16.883148\n",
       "3      16.883148\n",
       "4      31.600000\n",
       "         ...    \n",
       "496    31.600000\n",
       "497    31.600000\n",
       "498    31.600000\n",
       "499    31.600000\n",
       "500    31.618294\n",
       "Name: Rate For 10 Years(%), Length: 501, dtype: float64"
      ]
     },
     "execution_count": 9,
     "metadata": {},
     "output_type": "execute_result"
    }
   ],
   "source": [
    "c=0\n",
    "for i in range(len(df)):\n",
    "    if(df.loc[i,\"Type\"]=='TMC'):\n",
    "        c=c+1\n",
    "        df.loc[i,'Rate For 10 Years(%)'] = 31.5625\n",
    "\n",
    "df['Rate For 10 Years(%)']"
   ]
  },
  {
   "cell_type": "code",
   "execution_count": 10,
   "metadata": {},
   "outputs": [],
   "source": [
    "df['Rate For 10 Years(%)'].fillna(31.618294399999982,inplace=True)"
   ]
  },
  {
   "cell_type": "code",
   "execution_count": 11,
   "metadata": {},
   "outputs": [
    {
     "name": "stdout",
     "output_type": "stream",
     "text": [
      "<class 'pandas.core.frame.DataFrame'>\n",
      "RangeIndex: 501 entries, 0 to 500\n",
      "Data columns (total 16 columns):\n",
      " #   Column                Non-Null Count  Dtype  \n",
      "---  ------                --------------  -----  \n",
      " 0   City                  501 non-null    object \n",
      " 1   State                 501 non-null    object \n",
      " 2   Type                  499 non-null    object \n",
      " 3   Population [2011]     501 non-null    float64\n",
      " 4   Popuation [2001]      0 non-null      float64\n",
      " 5   Sex Ratio             496 non-null    float64\n",
      " 6   Median Age            488 non-null    float64\n",
      " 7   Avg Temp              487 non-null    float64\n",
      " 8   SWM                   492 non-null    object \n",
      " 9   Toilets Avl           479 non-null    float64\n",
      " 10  Water Purity          482 non-null    float64\n",
      " 11  H Index               486 non-null    float64\n",
      " 12  Female Population     486 non-null    float64\n",
      " 13  # of hospitals        484 non-null    float64\n",
      " 14  Foreign Visitors      484 non-null    float64\n",
      " 15  Rate For 10 Years(%)  501 non-null    float64\n",
      "dtypes: float64(12), object(4)\n",
      "memory usage: 62.8+ KB\n"
     ]
    }
   ],
   "source": [
    "df.info()"
   ]
  },
  {
   "cell_type": "code",
   "execution_count": 12,
   "metadata": {},
   "outputs": [
    {
     "data": {
      "text/plain": [
       "0      31.618294\n",
       "1      31.562500\n",
       "2      16.883148\n",
       "3      16.883148\n",
       "4      31.600000\n",
       "         ...    \n",
       "496    31.600000\n",
       "497    31.600000\n",
       "498    31.600000\n",
       "499    31.600000\n",
       "500    31.618294\n",
       "Name: Rate For 10 Years(%), Length: 501, dtype: float64"
      ]
     },
     "execution_count": 12,
     "metadata": {},
     "output_type": "execute_result"
    }
   ],
   "source": [
    "c=0\n",
    "for i in range(len(df)):\n",
    "    if(df.loc[i,\"Type\"]=='TC'):\n",
    "        c=c+1\n",
    "        df.loc[i,'Rate For 10 Years(%)'] = 31.618294399999982\n",
    "        \n",
    "df['Rate For 10 Years(%)']"
   ]
  },
  {
   "cell_type": "code",
   "execution_count": 13,
   "metadata": {},
   "outputs": [
    {
     "data": {
      "text/plain": [
       "0      31.618294\n",
       "1      31.562500\n",
       "2      16.883148\n",
       "3      16.883148\n",
       "4      31.600000\n",
       "         ...    \n",
       "496    31.600000\n",
       "497    31.600000\n",
       "498    31.600000\n",
       "499    31.600000\n",
       "500    31.618294\n",
       "Name: Rate For 10 Years(%), Length: 501, dtype: float64"
      ]
     },
     "execution_count": 13,
     "metadata": {},
     "output_type": "execute_result"
    }
   ],
   "source": [
    "c=0\n",
    "for i in range(len(df)):\n",
    "    if(df.loc[i,\"Type\"]=='MCl'):\n",
    "        c=c+1\n",
    "        df.loc[i,'Rate For 10 Years(%)'] = 16.883147708955224\n",
    "        \n",
    "df['Rate For 10 Years(%)']"
   ]
  },
  {
   "cell_type": "code",
   "execution_count": 14,
   "metadata": {},
   "outputs": [
    {
     "data": {
      "text/plain": [
       "0      31.618294\n",
       "1      31.562500\n",
       "2      16.883148\n",
       "3      16.883148\n",
       "4      31.600000\n",
       "         ...    \n",
       "496    31.600000\n",
       "497    31.600000\n",
       "498    31.600000\n",
       "499    31.600000\n",
       "500    31.618294\n",
       "Name: Rate For 10 Years(%), Length: 501, dtype: float64"
      ]
     },
     "execution_count": 14,
     "metadata": {},
     "output_type": "execute_result"
    }
   ],
   "source": [
    "c=0\n",
    "for i in range(len(df)):\n",
    "    if(df.loc[i,\"Type\"]=='NP'):\n",
    "        c=c+1\n",
    "        df.loc[i,'Rate For 10 Years(%)'] = 31.6\n",
    "        \n",
    "df['Rate For 10 Years(%)']"
   ]
  },
  {
   "cell_type": "code",
   "execution_count": 15,
   "metadata": {},
   "outputs": [
    {
     "data": {
      "text/plain": [
       "0      31.618294\n",
       "1      31.562500\n",
       "2      16.883148\n",
       "3      16.883148\n",
       "4      31.600000\n",
       "         ...    \n",
       "496    31.600000\n",
       "497    31.600000\n",
       "498    31.600000\n",
       "499    31.600000\n",
       "500    31.618294\n",
       "Name: Rate For 10 Years(%), Length: 501, dtype: float64"
      ]
     },
     "execution_count": 15,
     "metadata": {},
     "output_type": "execute_result"
    }
   ],
   "source": [
    "c=0\n",
    "for i in range(len(df)):\n",
    "    if(df.loc[i,\"Type\"]=='UA'):\n",
    "        c=c+1\n",
    "        df.loc[i,'Rate For 10 Years(%)'] = 29.21562\n",
    "        \n",
    "df['Rate For 10 Years(%)']"
   ]
  },
  {
   "cell_type": "code",
   "execution_count": 16,
   "metadata": {},
   "outputs": [
    {
     "data": {
      "text/plain": [
       "0      31.618294\n",
       "1      31.562500\n",
       "2      16.883148\n",
       "3      16.883148\n",
       "4      31.600000\n",
       "         ...    \n",
       "496    31.600000\n",
       "497    31.600000\n",
       "498    31.600000\n",
       "499    31.600000\n",
       "500    31.618294\n",
       "Name: Rate For 10 Years(%), Length: 501, dtype: float64"
      ]
     },
     "execution_count": 16,
     "metadata": {},
     "output_type": "execute_result"
    }
   ],
   "source": [
    "c=0\n",
    "for i in range(len(df)):\n",
    "    if(df.loc[i,\"Type\"]=='M'):\n",
    "        c=c+1\n",
    "        df.loc[i,'Rate For 10 Years(%)'] = 29.338903961101746\n",
    "        \n",
    "df['Rate For 10 Years(%)']"
   ]
  },
  {
   "cell_type": "code",
   "execution_count": 17,
   "metadata": {},
   "outputs": [
    {
     "data": {
      "text/plain": [
       "0      31.618294\n",
       "1      31.562500\n",
       "2      16.883148\n",
       "3      16.883148\n",
       "4      31.600000\n",
       "         ...    \n",
       "496    31.600000\n",
       "497    31.600000\n",
       "498    31.600000\n",
       "499    31.600000\n",
       "500    31.618294\n",
       "Name: Rate For 10 Years(%), Length: 501, dtype: float64"
      ]
     },
     "execution_count": 17,
     "metadata": {},
     "output_type": "execute_result"
    }
   ],
   "source": [
    "c=0\n",
    "for i in range(len(df)):\n",
    "    if(df.loc[i,\"Type\"]=='NT'):\n",
    "        c=c+1\n",
    "        df.loc[i,'Rate For 10 Years(%)'] = 31.6\n",
    "        \n",
    "df['Rate For 10 Years(%)']"
   ]
  },
  {
   "cell_type": "code",
   "execution_count": 18,
   "metadata": {},
   "outputs": [
    {
     "data": {
      "text/plain": [
       "0      31.618294\n",
       "1      31.562500\n",
       "2      16.883148\n",
       "3      16.883148\n",
       "4      31.600000\n",
       "         ...    \n",
       "496    31.600000\n",
       "497    31.600000\n",
       "498    31.600000\n",
       "499    31.600000\n",
       "500    31.600000\n",
       "Name: Rate For 10 Years(%), Length: 501, dtype: float64"
      ]
     },
     "execution_count": 18,
     "metadata": {},
     "output_type": "execute_result"
    }
   ],
   "source": [
    "c=0\n",
    "for i in range(len(df)):\n",
    "    if(df.loc[i,\"Type\"]=='CT'):\n",
    "        c=c+1\n",
    "        df.loc[i,'Rate For 10 Years(%)'] = 31.6\n",
    "        \n",
    "df['Rate For 10 Years(%)']"
   ]
  },
  {
   "cell_type": "code",
   "execution_count": 19,
   "metadata": {},
   "outputs": [
    {
     "data": {
      "text/plain": [
       "0      31.618294\n",
       "1      31.562500\n",
       "2      16.883148\n",
       "3      16.883148\n",
       "4      31.600000\n",
       "         ...    \n",
       "496    31.600000\n",
       "497    31.600000\n",
       "498    31.600000\n",
       "499    31.600000\n",
       "500    31.600000\n",
       "Name: Rate For 10 Years(%), Length: 501, dtype: float64"
      ]
     },
     "execution_count": 19,
     "metadata": {},
     "output_type": "execute_result"
    }
   ],
   "source": [
    "c=0\n",
    "for i in range(len(df)):\n",
    "    if(df.loc[i,\"Type\"]=='MB'):\n",
    "        c=c+1\n",
    "        df.loc[i,'Rate For 10 Years(%)'] = 30.16\n",
    "        \n",
    "df['Rate For 10 Years(%)']"
   ]
  },
  {
   "cell_type": "code",
   "execution_count": 20,
   "metadata": {},
   "outputs": [
    {
     "data": {
      "text/plain": [
       "0      31.618294\n",
       "1      31.562500\n",
       "2      16.883148\n",
       "3      16.883148\n",
       "4      31.600000\n",
       "         ...    \n",
       "496    31.600000\n",
       "497    31.600000\n",
       "498    31.600000\n",
       "499    31.600000\n",
       "500    31.600000\n",
       "Name: Rate For 10 Years(%), Length: 501, dtype: float64"
      ]
     },
     "execution_count": 20,
     "metadata": {},
     "output_type": "execute_result"
    }
   ],
   "source": [
    "c=0\n",
    "for i in range(len(df)):\n",
    "    if(df.loc[i,\"Type\"]=='NPP'):\n",
    "        c=c+1\n",
    "        df.loc[i,'Rate For 10 Years(%)'] = 31.61829439999998\n",
    "        \n",
    "df['Rate For 10 Years(%)']"
   ]
  },
  {
   "cell_type": "code",
   "execution_count": 21,
   "metadata": {},
   "outputs": [
    {
     "data": {
      "text/plain": [
       "0      31.618294\n",
       "1      31.562500\n",
       "2      16.883148\n",
       "3      16.883148\n",
       "4      31.600000\n",
       "         ...    \n",
       "496    31.600000\n",
       "497    31.600000\n",
       "498    31.600000\n",
       "499    31.600000\n",
       "500    31.618294\n",
       "Name: Rate For 10 Years(%), Length: 501, dtype: float64"
      ]
     },
     "execution_count": 21,
     "metadata": {},
     "output_type": "execute_result"
    }
   ],
   "source": [
    "c=0\n",
    "for i in range(len(df)):\n",
    "    if(df.loc[i,\"Type\"]=='CT'):\n",
    "        c=c+1\n",
    "        df.loc[i,'Rate For 10 Years(%)'] = 31.61829439999998\n",
    "        \n",
    "df['Rate For 10 Years(%)']"
   ]
  },
  {
   "cell_type": "code",
   "execution_count": 22,
   "metadata": {},
   "outputs": [
    {
     "data": {
      "text/plain": [
       "0      31.618294\n",
       "1      31.562500\n",
       "2      16.883148\n",
       "3      16.883148\n",
       "4      31.600000\n",
       "         ...    \n",
       "496    31.600000\n",
       "497    31.600000\n",
       "498    31.600000\n",
       "499    31.600000\n",
       "500    31.618294\n",
       "Name: Rate For 10 Years(%), Length: 501, dtype: float64"
      ]
     },
     "execution_count": 22,
     "metadata": {},
     "output_type": "execute_result"
    }
   ],
   "source": [
    "c=0\n",
    "for i in range(len(df)):\n",
    "    if(df.loc[i,\"Type\"]=='MC'):\n",
    "        c=c+1\n",
    "        df.loc[i,'Rate For 10 Years(%)'] = 10.345858915285714\n",
    "        \n",
    "df['Rate For 10 Years(%)']"
   ]
  },
  {
   "cell_type": "code",
   "execution_count": 23,
   "metadata": {},
   "outputs": [
    {
     "data": {
      "text/plain": [
       "0      31.618294\n",
       "1      31.562500\n",
       "2      16.883148\n",
       "3      16.883148\n",
       "4      31.600000\n",
       "         ...    \n",
       "496    31.600000\n",
       "497    31.600000\n",
       "498    31.600000\n",
       "499    31.600000\n",
       "500    31.618294\n",
       "Name: Rate For 10 Years(%), Length: 501, dtype: float64"
      ]
     },
     "execution_count": 23,
     "metadata": {},
     "output_type": "execute_result"
    }
   ],
   "source": [
    "c=0\n",
    "for i in range(len(df)):\n",
    "    if(df.loc[i,\"Type\"]=='TP'):\n",
    "        c=c+1\n",
    "        df.loc[i,'Rate For 10 Years(%)'] = 31.61829439999998\n",
    "        \n",
    "df['Rate For 10 Years(%)']"
   ]
  },
  {
   "cell_type": "code",
   "execution_count": 24,
   "metadata": {},
   "outputs": [
    {
     "data": {
      "text/plain": [
       "0      31.618294\n",
       "1      31.562500\n",
       "2      16.883148\n",
       "3      16.883148\n",
       "4      31.600000\n",
       "         ...    \n",
       "496    31.600000\n",
       "497    31.600000\n",
       "498    31.600000\n",
       "499    31.600000\n",
       "500    31.618294\n",
       "Name: Rate For 10 Years(%), Length: 501, dtype: float64"
      ]
     },
     "execution_count": 24,
     "metadata": {},
     "output_type": "execute_result"
    }
   ],
   "source": [
    "c=0\n",
    "for i in range(len(df)):\n",
    "    if(df.loc[i,\"Type\"]=='NA'):\n",
    "        c=c+1\n",
    "        df.loc[i,'Rate For 10 Years(%)'] = 30.15263\n",
    "        \n",
    "df['Rate For 10 Years(%)']"
   ]
  },
  {
   "cell_type": "code",
   "execution_count": 25,
   "metadata": {},
   "outputs": [
    {
     "data": {
      "text/plain": [
       "0      31.618294\n",
       "1      31.562500\n",
       "2      16.883148\n",
       "3      16.883148\n",
       "4      31.600000\n",
       "         ...    \n",
       "496    31.600000\n",
       "497    31.600000\n",
       "498    31.600000\n",
       "499    31.600000\n",
       "500    31.618294\n",
       "Name: Rate For 10 Years(%), Length: 501, dtype: float64"
      ]
     },
     "execution_count": 25,
     "metadata": {},
     "output_type": "execute_result"
    }
   ],
   "source": [
    "c=0\n",
    "for i in range(len(df)):\n",
    "    if(df.loc[i,\"Type\"]=='MB'):\n",
    "        c=c+1\n",
    "        df.loc[i,'Rate For 10 Years(%)'] = 31.61829439999998\n",
    "        \n",
    "df['Rate For 10 Years(%)']"
   ]
  },
  {
   "cell_type": "code",
   "execution_count": 26,
   "metadata": {
    "scrolled": false
   },
   "outputs": [
    {
     "data": {
      "text/plain": [
       "0     31.618294\n",
       "1     31.562500\n",
       "2     16.883148\n",
       "3     16.883148\n",
       "4     31.600000\n",
       "        ...    \n",
       "95    29.338904\n",
       "96    29.338904\n",
       "97    31.618294\n",
       "98    31.618294\n",
       "99    31.618294\n",
       "Name: Rate For 10 Years(%), Length: 100, dtype: float64"
      ]
     },
     "execution_count": 26,
     "metadata": {},
     "output_type": "execute_result"
    }
   ],
   "source": [
    "c=0\n",
    "for i in range(len(df)):\n",
    "    if(df.loc[i,\"Type\"]=='INA' or df.loc[i,\"Type\"]=='NAC' or df.loc[i,\"Type\"]=='GP'):\n",
    "        c=c+1\n",
    "        df.loc[i,'Rate For 10 Years(%)'] = 31.61829439999998\n",
    "        \n",
    "df['Rate For 10 Years(%)'][:100]"
   ]
  },
  {
   "cell_type": "code",
   "execution_count": 27,
   "metadata": {
    "scrolled": true
   },
   "outputs": [
    {
     "data": {
      "text/plain": [
       "31.618294    146\n",
       "29.338904    119\n",
       "31.600000     95\n",
       "16.883148     67\n",
       "31.562500     27\n",
       "30.152630     19\n",
       "31.618294     10\n",
       "10.345859     10\n",
       "29.215620      8\n",
       "Name: Rate For 10 Years(%), dtype: int64"
      ]
     },
     "execution_count": 27,
     "metadata": {},
     "output_type": "execute_result"
    }
   ],
   "source": [
    "df['Rate For 10 Years(%)'].value_counts()"
   ]
  },
  {
   "cell_type": "markdown",
   "metadata": {},
   "source": [
    "**Calculating the growth rate for each city**"
   ]
  },
  {
   "cell_type": "code",
   "execution_count": 28,
   "metadata": {},
   "outputs": [],
   "source": [
    "for i in range(len(df)):\n",
    "    val = 0\n",
    "    val1 = 0\n",
    "    val2 = 0\n",
    "    pop1 = df['Population [2011]']\n",
    "    pop2 = df['Popuation [2001]']\n",
    "    #\n",
    "    val = df['Rate For 10 Years(%)']\n",
    "    val1 = val/10\n",
    "    val2 = val1/12\n",
    "    npop21=(pop1*val)/100\n",
    "    popgr21=npop21+pop1\n",
    "    gror20=val1*9\n",
    "    newpop20 = (gror20*pop1)/100\n",
    "    popgr20 = newpop20+pop1\n",
    "    \n",
    "    gror19=val1*8\n",
    "    newpop19 = (gror19*pop1)/100\n",
    "    popgr19 = newpop19+pop1\n",
    "    \n",
    "    jantoaug = val2*8\n",
    "    poptillaug20 = (popgr20*jantoaug)/100\n",
    "    popestaug20 = poptillaug20 + popgr20\n",
    "    \n",
    "    #\n",
    "    df['Rate for 1 Year(%)']=val1\n",
    "    df['Rate for 1 Month(%)']=val2\n",
    "    \n",
    "    df['New Population for 2021']=npop21\n",
    "    df['Population Estimated for 2021']=popgr21\n",
    "    \n",
    "    df['Growth Rate till 2020']=gror20\n",
    "    df['New Population till 2020']=newpop20\n",
    "    df['Population Estimated for 2020']=popgr20\n",
    "    \n",
    "    df['Growth Rate till 2019']=gror19\n",
    "    df['New Population till 2019']=newpop19\n",
    "    df['Population Estimated for 2019']=popgr19\n",
    "    \n",
    "    df['Rate For Jan to Aug(%)']=jantoaug\n",
    "    df['New Population for 2020 Aug']=poptillaug20\n",
    "    df['Population Estimated for 2020 Till Aug']=popestaug20"
   ]
  },
  {
   "cell_type": "code",
   "execution_count": 29,
   "metadata": {},
   "outputs": [
    {
     "data": {
      "text/html": [
       "<div>\n",
       "<style scoped>\n",
       "    .dataframe tbody tr th:only-of-type {\n",
       "        vertical-align: middle;\n",
       "    }\n",
       "\n",
       "    .dataframe tbody tr th {\n",
       "        vertical-align: top;\n",
       "    }\n",
       "\n",
       "    .dataframe thead th {\n",
       "        text-align: right;\n",
       "    }\n",
       "</style>\n",
       "<table border=\"1\" class=\"dataframe\">\n",
       "  <thead>\n",
       "    <tr style=\"text-align: right;\">\n",
       "      <th></th>\n",
       "      <th>City</th>\n",
       "      <th>State</th>\n",
       "      <th>Type</th>\n",
       "      <th>Population [2011]</th>\n",
       "      <th>Popuation [2001]</th>\n",
       "      <th>Sex Ratio</th>\n",
       "      <th>Median Age</th>\n",
       "      <th>Avg Temp</th>\n",
       "      <th>SWM</th>\n",
       "      <th>Toilets Avl</th>\n",
       "      <th>...</th>\n",
       "      <th>Population Estimated for 2021</th>\n",
       "      <th>Growth Rate till 2020</th>\n",
       "      <th>New Population till 2020</th>\n",
       "      <th>Population Estimated for 2020</th>\n",
       "      <th>Growth Rate till 2019</th>\n",
       "      <th>New Population till 2019</th>\n",
       "      <th>Population Estimated for 2019</th>\n",
       "      <th>Rate For Jan to Aug(%)</th>\n",
       "      <th>New Population for 2020 Aug</th>\n",
       "      <th>Population Estimated for 2020 Till Aug</th>\n",
       "    </tr>\n",
       "  </thead>\n",
       "  <tbody>\n",
       "    <tr>\n",
       "      <th>0</th>\n",
       "      <td>Tuensang</td>\n",
       "      <td>Nagaland</td>\n",
       "      <td>TC</td>\n",
       "      <td>36774.0</td>\n",
       "      <td>NaN</td>\n",
       "      <td>931.0</td>\n",
       "      <td>23.0</td>\n",
       "      <td>10.0</td>\n",
       "      <td>MEDIUM</td>\n",
       "      <td>94.0</td>\n",
       "      <td>...</td>\n",
       "      <td>48401.311583</td>\n",
       "      <td>28.456465</td>\n",
       "      <td>10464.580424</td>\n",
       "      <td>47238.580424</td>\n",
       "      <td>25.294636</td>\n",
       "      <td>9301.849266</td>\n",
       "      <td>46075.849266</td>\n",
       "      <td>2.107886</td>\n",
       "      <td>995.735562</td>\n",
       "      <td>48234.315986</td>\n",
       "    </tr>\n",
       "    <tr>\n",
       "      <th>1</th>\n",
       "      <td>Lakshmeshwar</td>\n",
       "      <td>Karnataka</td>\n",
       "      <td>TMC</td>\n",
       "      <td>36754.0</td>\n",
       "      <td>NaN</td>\n",
       "      <td>934.0</td>\n",
       "      <td>25.0</td>\n",
       "      <td>38.0</td>\n",
       "      <td>HIGH</td>\n",
       "      <td>62.0</td>\n",
       "      <td>...</td>\n",
       "      <td>48354.481250</td>\n",
       "      <td>28.406250</td>\n",
       "      <td>10440.433125</td>\n",
       "      <td>47194.433125</td>\n",
       "      <td>25.250000</td>\n",
       "      <td>9280.385000</td>\n",
       "      <td>46034.385000</td>\n",
       "      <td>2.104167</td>\n",
       "      <td>993.049530</td>\n",
       "      <td>48187.482655</td>\n",
       "    </tr>\n",
       "    <tr>\n",
       "      <th>2</th>\n",
       "      <td>Zira</td>\n",
       "      <td>Punjab</td>\n",
       "      <td>MCl</td>\n",
       "      <td>36732.0</td>\n",
       "      <td>NaN</td>\n",
       "      <td>883.0</td>\n",
       "      <td>29.0</td>\n",
       "      <td>35.0</td>\n",
       "      <td>HIGH</td>\n",
       "      <td>63.0</td>\n",
       "      <td>...</td>\n",
       "      <td>42933.517816</td>\n",
       "      <td>15.194833</td>\n",
       "      <td>5581.366035</td>\n",
       "      <td>42313.366035</td>\n",
       "      <td>13.506518</td>\n",
       "      <td>4961.214253</td>\n",
       "      <td>41693.214253</td>\n",
       "      <td>1.125543</td>\n",
       "      <td>476.255206</td>\n",
       "      <td>42789.621241</td>\n",
       "    </tr>\n",
       "    <tr>\n",
       "      <th>3</th>\n",
       "      <td>Yawal</td>\n",
       "      <td>Maharashtra</td>\n",
       "      <td>MCl</td>\n",
       "      <td>36706.0</td>\n",
       "      <td>NaN</td>\n",
       "      <td>887.0</td>\n",
       "      <td>26.0</td>\n",
       "      <td>31.0</td>\n",
       "      <td>HIGH</td>\n",
       "      <td>60.0</td>\n",
       "      <td>...</td>\n",
       "      <td>42903.128198</td>\n",
       "      <td>15.194833</td>\n",
       "      <td>5577.415378</td>\n",
       "      <td>42283.415378</td>\n",
       "      <td>13.506518</td>\n",
       "      <td>4957.702558</td>\n",
       "      <td>41663.702558</td>\n",
       "      <td>1.125543</td>\n",
       "      <td>475.918098</td>\n",
       "      <td>42759.333477</td>\n",
       "    </tr>\n",
       "    <tr>\n",
       "      <th>4</th>\n",
       "      <td>Thana Bhawan</td>\n",
       "      <td>Uttar Pradesh</td>\n",
       "      <td>NP</td>\n",
       "      <td>36669.0</td>\n",
       "      <td>NaN</td>\n",
       "      <td>877.0</td>\n",
       "      <td>28.0</td>\n",
       "      <td>39.0</td>\n",
       "      <td>LOW</td>\n",
       "      <td>92.0</td>\n",
       "      <td>...</td>\n",
       "      <td>48256.404000</td>\n",
       "      <td>28.440000</td>\n",
       "      <td>10428.663600</td>\n",
       "      <td>47097.663600</td>\n",
       "      <td>25.280000</td>\n",
       "      <td>9269.923200</td>\n",
       "      <td>45938.923200</td>\n",
       "      <td>2.106667</td>\n",
       "      <td>992.190780</td>\n",
       "      <td>48089.854380</td>\n",
       "    </tr>\n",
       "  </tbody>\n",
       "</table>\n",
       "<p>5 rows × 29 columns</p>\n",
       "</div>"
      ],
      "text/plain": [
       "           City          State Type  Population [2011]  Popuation [2001]  \\\n",
       "0      Tuensang       Nagaland   TC            36774.0               NaN   \n",
       "1  Lakshmeshwar      Karnataka  TMC            36754.0               NaN   \n",
       "2          Zira         Punjab  MCl            36732.0               NaN   \n",
       "3         Yawal    Maharashtra  MCl            36706.0               NaN   \n",
       "4  Thana Bhawan  Uttar Pradesh   NP            36669.0               NaN   \n",
       "\n",
       "   Sex Ratio  Median Age  Avg Temp     SWM  Toilets Avl  ...  \\\n",
       "0      931.0        23.0      10.0  MEDIUM         94.0  ...   \n",
       "1      934.0        25.0      38.0    HIGH         62.0  ...   \n",
       "2      883.0        29.0      35.0    HIGH         63.0  ...   \n",
       "3      887.0        26.0      31.0    HIGH         60.0  ...   \n",
       "4      877.0        28.0      39.0     LOW         92.0  ...   \n",
       "\n",
       "   Population Estimated for 2021  Growth Rate till 2020  \\\n",
       "0                   48401.311583              28.456465   \n",
       "1                   48354.481250              28.406250   \n",
       "2                   42933.517816              15.194833   \n",
       "3                   42903.128198              15.194833   \n",
       "4                   48256.404000              28.440000   \n",
       "\n",
       "   New Population till 2020  Population Estimated for 2020  \\\n",
       "0              10464.580424                   47238.580424   \n",
       "1              10440.433125                   47194.433125   \n",
       "2               5581.366035                   42313.366035   \n",
       "3               5577.415378                   42283.415378   \n",
       "4              10428.663600                   47097.663600   \n",
       "\n",
       "   Growth Rate till 2019  New Population till 2019  \\\n",
       "0              25.294636               9301.849266   \n",
       "1              25.250000               9280.385000   \n",
       "2              13.506518               4961.214253   \n",
       "3              13.506518               4957.702558   \n",
       "4              25.280000               9269.923200   \n",
       "\n",
       "   Population Estimated for 2019  Rate For Jan to Aug(%)  \\\n",
       "0                   46075.849266                2.107886   \n",
       "1                   46034.385000                2.104167   \n",
       "2                   41693.214253                1.125543   \n",
       "3                   41663.702558                1.125543   \n",
       "4                   45938.923200                2.106667   \n",
       "\n",
       "   New Population for 2020 Aug  Population Estimated for 2020 Till Aug  \n",
       "0                   995.735562                            48234.315986  \n",
       "1                   993.049530                            48187.482655  \n",
       "2                   476.255206                            42789.621241  \n",
       "3                   475.918098                            42759.333477  \n",
       "4                   992.190780                            48089.854380  \n",
       "\n",
       "[5 rows x 29 columns]"
      ]
     },
     "execution_count": 29,
     "metadata": {},
     "output_type": "execute_result"
    }
   ],
   "source": [
    "df.head()"
   ]
  },
  {
   "cell_type": "code",
   "execution_count": 30,
   "metadata": {},
   "outputs": [
    {
     "name": "stdout",
     "output_type": "stream",
     "text": [
      "<class 'pandas.core.frame.DataFrame'>\n",
      "RangeIndex: 501 entries, 0 to 500\n",
      "Data columns (total 29 columns):\n",
      " #   Column                                  Non-Null Count  Dtype  \n",
      "---  ------                                  --------------  -----  \n",
      " 0   City                                    501 non-null    object \n",
      " 1   State                                   501 non-null    object \n",
      " 2   Type                                    499 non-null    object \n",
      " 3   Population [2011]                       501 non-null    float64\n",
      " 4   Popuation [2001]                        0 non-null      float64\n",
      " 5   Sex Ratio                               496 non-null    float64\n",
      " 6   Median Age                              488 non-null    float64\n",
      " 7   Avg Temp                                487 non-null    float64\n",
      " 8   SWM                                     492 non-null    object \n",
      " 9   Toilets Avl                             479 non-null    float64\n",
      " 10  Water Purity                            482 non-null    float64\n",
      " 11  H Index                                 486 non-null    float64\n",
      " 12  Female Population                       486 non-null    float64\n",
      " 13  # of hospitals                          484 non-null    float64\n",
      " 14  Foreign Visitors                        484 non-null    float64\n",
      " 15  Rate For 10 Years(%)                    501 non-null    float64\n",
      " 16  Rate for 1 Year(%)                      501 non-null    float64\n",
      " 17  Rate for 1 Month(%)                     501 non-null    float64\n",
      " 18  New Population for 2021                 501 non-null    float64\n",
      " 19  Population Estimated for 2021           501 non-null    float64\n",
      " 20  Growth Rate till 2020                   501 non-null    float64\n",
      " 21  New Population till 2020                501 non-null    float64\n",
      " 22  Population Estimated for 2020           501 non-null    float64\n",
      " 23  Growth Rate till 2019                   501 non-null    float64\n",
      " 24  New Population till 2019                501 non-null    float64\n",
      " 25  Population Estimated for 2019           501 non-null    float64\n",
      " 26  Rate For Jan to Aug(%)                  501 non-null    float64\n",
      " 27  New Population for 2020 Aug             501 non-null    float64\n",
      " 28  Population Estimated for 2020 Till Aug  501 non-null    float64\n",
      "dtypes: float64(25), object(4)\n",
      "memory usage: 113.6+ KB\n"
     ]
    }
   ],
   "source": [
    "df.info()"
   ]
  },
  {
   "cell_type": "code",
   "execution_count": 31,
   "metadata": {
    "scrolled": false
   },
   "outputs": [
    {
     "name": "stdout",
     "output_type": "stream",
     "text": [
      "31.618294399999982\n",
      "31.5625\n",
      "16.883147708955224\n",
      "16.883147708955224\n",
      "31.6\n",
      "29.21562\n",
      "16.883147708955224\n",
      "29.338903961101746\n",
      "31.5625\n",
      "29.338903961101746\n"
     ]
    }
   ],
   "source": [
    "for i in range(10):\n",
    "    print(df.loc[i,\"Rate For 10 Years(%)\"])"
   ]
  },
  {
   "cell_type": "code",
   "execution_count": 32,
   "metadata": {
    "scrolled": true
   },
   "outputs": [
    {
     "data": {
      "text/plain": [
       "Index(['City', 'State', 'Type', 'Population [2011]', 'Popuation [2001]',\n",
       "       'Sex Ratio', 'Median Age', 'Avg Temp', 'SWM', 'Toilets Avl',\n",
       "       'Water Purity', 'H Index', 'Female Population', '# of hospitals',\n",
       "       'Foreign Visitors', 'Rate For 10 Years(%)', 'Rate for 1 Year(%)',\n",
       "       'Rate for 1 Month(%)', 'New Population for 2021',\n",
       "       'Population Estimated for 2021', 'Growth Rate till 2020',\n",
       "       'New Population till 2020', 'Population Estimated for 2020',\n",
       "       'Growth Rate till 2019', 'New Population till 2019',\n",
       "       'Population Estimated for 2019', 'Rate For Jan to Aug(%)',\n",
       "       'New Population for 2020 Aug',\n",
       "       'Population Estimated for 2020 Till Aug'],\n",
       "      dtype='object')"
      ]
     },
     "execution_count": 32,
     "metadata": {},
     "output_type": "execute_result"
    }
   ],
   "source": [
    "df.columns"
   ]
  },
  {
   "cell_type": "code",
   "execution_count": 33,
   "metadata": {},
   "outputs": [],
   "source": [
    "cols = ['City', 'Type', \n",
    "        'Median Age', 'Avg Temp', 'SWM', 'Toilets Avl',\n",
    "       'Water Purity', 'H Index', '# of hospitals',\n",
    "       'Foreign Visitors', 'Population Estimated for 2020 Till Aug']\n",
    "\n",
    "df = df[cols]"
   ]
  },
  {
   "cell_type": "code",
   "execution_count": 34,
   "metadata": {},
   "outputs": [],
   "source": [
    "swm_categories = {\"HIGH\":0 ,\"MEDIUM\":1 ,\"LOW\":2}\n",
    "df['SWM'] = df['SWM'].map(swm_categories)\n",
    "df.loc[df['Type'] == \"nagarparishad\", \"Type\"] = 'npd'\n",
    "type_categories = dict(zip(set(df['Type']),list(range(len(set(df['Type']))))))\n",
    "df['Type'] = df['Type'].map(type_categories)"
   ]
  },
  {
   "cell_type": "code",
   "execution_count": 35,
   "metadata": {},
   "outputs": [],
   "source": [
    "df.columns = [\"city\", \"city_type\", \"median_age\", \"avg_temp\", \"swm\", \"toilets_avl\", \"water_purity\", \"h_index\", \"hospitals\", \"foreign_visitors\", \"population_till_aug\"]\n"
   ]
  },
  {
   "cell_type": "code",
   "execution_count": 36,
   "metadata": {},
   "outputs": [
    {
     "name": "stdout",
     "output_type": "stream",
     "text": [
      "<class 'pandas.core.frame.DataFrame'>\n",
      "RangeIndex: 501 entries, 0 to 500\n",
      "Data columns (total 11 columns):\n",
      " #   Column               Non-Null Count  Dtype  \n",
      "---  ------               --------------  -----  \n",
      " 0   city                 501 non-null    object \n",
      " 1   city_type            501 non-null    int64  \n",
      " 2   median_age           488 non-null    float64\n",
      " 3   avg_temp             487 non-null    float64\n",
      " 4   swm                  492 non-null    float64\n",
      " 5   toilets_avl          479 non-null    float64\n",
      " 6   water_purity         482 non-null    float64\n",
      " 7   h_index              486 non-null    float64\n",
      " 8   hospitals            484 non-null    float64\n",
      " 9   foreign_visitors     484 non-null    float64\n",
      " 10  population_till_aug  501 non-null    float64\n",
      "dtypes: float64(9), int64(1), object(1)\n",
      "memory usage: 43.2+ KB\n"
     ]
    }
   ],
   "source": [
    "df.info()"
   ]
  },
  {
   "cell_type": "markdown",
   "metadata": {},
   "source": [
    "**Saving the final csv file**"
   ]
  },
  {
   "cell_type": "code",
   "execution_count": 37,
   "metadata": {},
   "outputs": [],
   "source": [
    "df.to_csv('TestDataFinal.csv')"
   ]
  },
  {
   "cell_type": "code",
   "execution_count": null,
   "metadata": {},
   "outputs": [],
   "source": []
  }
 ],
 "metadata": {
  "kernelspec": {
   "display_name": "Python 3",
   "language": "python",
   "name": "python3"
  },
  "language_info": {
   "codemirror_mode": {
    "name": "ipython",
    "version": 3
   },
   "file_extension": ".py",
   "mimetype": "text/x-python",
   "name": "python",
   "nbconvert_exporter": "python",
   "pygments_lexer": "ipython3",
   "version": "3.7.7"
  }
 },
 "nbformat": 4,
 "nbformat_minor": 4
}
