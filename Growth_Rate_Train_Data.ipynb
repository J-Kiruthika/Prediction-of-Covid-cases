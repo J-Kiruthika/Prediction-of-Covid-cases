{
 "cells": [
  {
   "cell_type": "markdown",
   "metadata": {},
   "source": [
    "### Flipr Hackathon: Population Growth Computation"
   ]
  },
  {
   "cell_type": "markdown",
   "metadata": {},
   "source": [
    "**Package imports**"
   ]
  },
  {
   "cell_type": "code",
   "execution_count": 1,
   "metadata": {},
   "outputs": [],
   "source": [
    "import pandas as pd\n",
    "import numpy as np\n",
    "import locale\n",
    "from locale import atof"
   ]
  },
  {
   "cell_type": "markdown",
   "metadata": {},
   "source": [
    "**Train Dataset**"
   ]
  },
  {
   "cell_type": "code",
   "execution_count": 2,
   "metadata": {},
   "outputs": [],
   "source": [
    "df = pd.read_csv(r\"C:\\Users\\Aishwarya\\PROJECTS\\Flipr Hackathon\\csv files\\Train_dataset.csv\",encoding='cp1252')\n",
    "df.dropna(axis=0, how='all', inplace=True)"
   ]
  },
  {
   "cell_type": "code",
   "execution_count": 3,
   "metadata": {
    "scrolled": true
   },
   "outputs": [
    {
     "name": "stdout",
     "output_type": "stream",
     "text": [
      "column type:\n",
      "City                     object\n",
      "State                    object\n",
      "Type                     object\n",
      "Population [2011]       float64\n",
      "Popuation [2001]         object\n",
      "Sex Ratio               float64\n",
      "Median Age              float64\n",
      "Avg Temp                float64\n",
      "SWM                      object\n",
      "Toilets Avl             float64\n",
      "Water Purity            float64\n",
      "H Index                 float64\n",
      "Female Population       float64\n",
      "# of hospitals          float64\n",
      "Foreign Visitors        float64\n",
      "Covid Cases               int64\n",
      "Rate For 10 Years(%)    float64\n",
      "dtype: object\n"
     ]
    }
   ],
   "source": [
    "df.head()\n",
    "\n",
    "df['Population [2011]'] = df['Population [2011]'].str.replace(',', '').astype(float)\n",
    "print(f\"column type:\\n{df.dtypes}\")"
   ]
  },
  {
   "cell_type": "code",
   "execution_count": 4,
   "metadata": {},
   "outputs": [
    {
     "name": "stdout",
     "output_type": "stream",
     "text": [
      "<class 'pandas.core.frame.DataFrame'>\n",
      "Int64Index: 787 entries, 0 to 786\n",
      "Data columns (total 17 columns):\n",
      " #   Column                Non-Null Count  Dtype  \n",
      "---  ------                --------------  -----  \n",
      " 0   City                  787 non-null    object \n",
      " 1   State                 787 non-null    object \n",
      " 2   Type                  787 non-null    object \n",
      " 3   Population [2011]     787 non-null    float64\n",
      " 4   Popuation [2001]      323 non-null    object \n",
      " 5   Sex Ratio             777 non-null    float64\n",
      " 6   Median Age            769 non-null    float64\n",
      " 7   Avg Temp              770 non-null    float64\n",
      " 8   SWM                   783 non-null    object \n",
      " 9   Toilets Avl           761 non-null    float64\n",
      " 10  Water Purity          629 non-null    float64\n",
      " 11  H Index               647 non-null    float64\n",
      " 12  Female Population     646 non-null    float64\n",
      " 13  # of hospitals        772 non-null    float64\n",
      " 14  Foreign Visitors      697 non-null    float64\n",
      " 15  Covid Cases           787 non-null    int64  \n",
      " 16  Rate For 10 Years(%)  787 non-null    float64\n",
      "dtypes: float64(11), int64(1), object(5)\n",
      "memory usage: 110.7+ KB\n"
     ]
    }
   ],
   "source": [
    "df.info()"
   ]
  },
  {
   "cell_type": "code",
   "execution_count": 5,
   "metadata": {},
   "outputs": [],
   "source": [
    "df['Population [2011]'].fillna(df['Population [2011]'].mean(),inplace=True)"
   ]
  },
  {
   "cell_type": "code",
   "execution_count": 6,
   "metadata": {},
   "outputs": [
    {
     "data": {
      "text/html": [
       "<div>\n",
       "<style scoped>\n",
       "    .dataframe tbody tr th:only-of-type {\n",
       "        vertical-align: middle;\n",
       "    }\n",
       "\n",
       "    .dataframe tbody tr th {\n",
       "        vertical-align: top;\n",
       "    }\n",
       "\n",
       "    .dataframe thead th {\n",
       "        text-align: right;\n",
       "    }\n",
       "</style>\n",
       "<table border=\"1\" class=\"dataframe\">\n",
       "  <thead>\n",
       "    <tr style=\"text-align: right;\">\n",
       "      <th></th>\n",
       "      <th>City</th>\n",
       "      <th>State</th>\n",
       "      <th>Type</th>\n",
       "      <th>Population [2011]</th>\n",
       "      <th>Popuation [2001]</th>\n",
       "      <th>Sex Ratio</th>\n",
       "      <th>Median Age</th>\n",
       "      <th>Avg Temp</th>\n",
       "      <th>SWM</th>\n",
       "      <th>Toilets Avl</th>\n",
       "      <th>Water Purity</th>\n",
       "      <th>H Index</th>\n",
       "      <th>Female Population</th>\n",
       "      <th># of hospitals</th>\n",
       "      <th>Foreign Visitors</th>\n",
       "      <th>Covid Cases</th>\n",
       "      <th>Rate For 10 Years(%)</th>\n",
       "    </tr>\n",
       "  </thead>\n",
       "  <tbody>\n",
       "    <tr>\n",
       "      <th>0</th>\n",
       "      <td>Mumbai</td>\n",
       "      <td>Maharashtra</td>\n",
       "      <td>M.C</td>\n",
       "      <td>12442373.0</td>\n",
       "      <td>1,19,78,450</td>\n",
       "      <td>878.0</td>\n",
       "      <td>23.0</td>\n",
       "      <td>32.0</td>\n",
       "      <td>MEDIUM</td>\n",
       "      <td>219.0</td>\n",
       "      <td>150.0</td>\n",
       "      <td>0.700440</td>\n",
       "      <td>10924403.0</td>\n",
       "      <td>159.0</td>\n",
       "      <td>4408916.0</td>\n",
       "      <td>163115</td>\n",
       "      <td>3.872980</td>\n",
       "    </tr>\n",
       "    <tr>\n",
       "      <th>1</th>\n",
       "      <td>Delhi</td>\n",
       "      <td>Delhi</td>\n",
       "      <td>M.C</td>\n",
       "      <td>11007835.0</td>\n",
       "      <td>98,79,172</td>\n",
       "      <td>858.0</td>\n",
       "      <td>27.0</td>\n",
       "      <td>30.0</td>\n",
       "      <td>MEDIUM</td>\n",
       "      <td>215.0</td>\n",
       "      <td>196.0</td>\n",
       "      <td>0.920018</td>\n",
       "      <td>9444722.0</td>\n",
       "      <td>148.0</td>\n",
       "      <td>2379169.0</td>\n",
       "      <td>80188</td>\n",
       "      <td>11.424672</td>\n",
       "    </tr>\n",
       "    <tr>\n",
       "      <th>2</th>\n",
       "      <td>Bangalore</td>\n",
       "      <td>Karnataka</td>\n",
       "      <td>MPUA</td>\n",
       "      <td>8436675.0</td>\n",
       "      <td>43,01,326</td>\n",
       "      <td>936.0</td>\n",
       "      <td>28.0</td>\n",
       "      <td>37.0</td>\n",
       "      <td>HIGH</td>\n",
       "      <td>212.0</td>\n",
       "      <td>102.0</td>\n",
       "      <td>0.097085</td>\n",
       "      <td>7896728.0</td>\n",
       "      <td>123.0</td>\n",
       "      <td>636502.0</td>\n",
       "      <td>141000</td>\n",
       "      <td>96.141260</td>\n",
       "    </tr>\n",
       "    <tr>\n",
       "      <th>3</th>\n",
       "      <td>Hyderabad</td>\n",
       "      <td>Telangana</td>\n",
       "      <td>MPUA</td>\n",
       "      <td>6809970.0</td>\n",
       "      <td>36,37,483</td>\n",
       "      <td>930.0</td>\n",
       "      <td>23.0</td>\n",
       "      <td>31.0</td>\n",
       "      <td>MEDIUM</td>\n",
       "      <td>217.0</td>\n",
       "      <td>118.0</td>\n",
       "      <td>0.827744</td>\n",
       "      <td>6333272.0</td>\n",
       "      <td>110.0</td>\n",
       "      <td>126078.0</td>\n",
       "      <td>55123</td>\n",
       "      <td>87.216545</td>\n",
       "    </tr>\n",
       "    <tr>\n",
       "      <th>4</th>\n",
       "      <td>Ahmedabad</td>\n",
       "      <td>Gujarat</td>\n",
       "      <td>MPUA</td>\n",
       "      <td>5570585.0</td>\n",
       "      <td>35,20,085</td>\n",
       "      <td>852.0</td>\n",
       "      <td>29.0</td>\n",
       "      <td>25.0</td>\n",
       "      <td>LOW</td>\n",
       "      <td>227.0</td>\n",
       "      <td>109.0</td>\n",
       "      <td>0.847941</td>\n",
       "      <td>4746138.0</td>\n",
       "      <td>73.0</td>\n",
       "      <td>284973.0</td>\n",
       "      <td>33204</td>\n",
       "      <td>58.251434</td>\n",
       "    </tr>\n",
       "  </tbody>\n",
       "</table>\n",
       "</div>"
      ],
      "text/plain": [
       "        City        State  Type  Population [2011] Popuation [2001]  \\\n",
       "0     Mumbai  Maharashtra   M.C         12442373.0      1,19,78,450   \n",
       "1      Delhi        Delhi   M.C         11007835.0        98,79,172   \n",
       "2  Bangalore    Karnataka  MPUA          8436675.0        43,01,326   \n",
       "3  Hyderabad    Telangana  MPUA          6809970.0        36,37,483   \n",
       "4  Ahmedabad      Gujarat  MPUA          5570585.0        35,20,085   \n",
       "\n",
       "   Sex Ratio  Median Age  Avg Temp     SWM  Toilets Avl  Water Purity  \\\n",
       "0      878.0        23.0      32.0  MEDIUM        219.0         150.0   \n",
       "1      858.0        27.0      30.0  MEDIUM        215.0         196.0   \n",
       "2      936.0        28.0      37.0    HIGH        212.0         102.0   \n",
       "3      930.0        23.0      31.0  MEDIUM        217.0         118.0   \n",
       "4      852.0        29.0      25.0     LOW        227.0         109.0   \n",
       "\n",
       "    H Index  Female Population  # of hospitals  Foreign Visitors  Covid Cases  \\\n",
       "0  0.700440         10924403.0           159.0         4408916.0       163115   \n",
       "1  0.920018          9444722.0           148.0         2379169.0        80188   \n",
       "2  0.097085          7896728.0           123.0          636502.0       141000   \n",
       "3  0.827744          6333272.0           110.0          126078.0        55123   \n",
       "4  0.847941          4746138.0            73.0          284973.0        33204   \n",
       "\n",
       "   Rate For 10 Years(%)  \n",
       "0              3.872980  \n",
       "1             11.424672  \n",
       "2             96.141260  \n",
       "3             87.216545  \n",
       "4             58.251434  "
      ]
     },
     "execution_count": 6,
     "metadata": {},
     "output_type": "execute_result"
    }
   ],
   "source": [
    "df.head()"
   ]
  },
  {
   "cell_type": "code",
   "execution_count": 7,
   "metadata": {},
   "outputs": [],
   "source": [
    "df['Type']=df['Type'].str.replace('.','')"
   ]
  },
  {
   "cell_type": "code",
   "execution_count": 8,
   "metadata": {},
   "outputs": [
    {
     "data": {
      "text/html": [
       "<div>\n",
       "<style scoped>\n",
       "    .dataframe tbody tr th:only-of-type {\n",
       "        vertical-align: middle;\n",
       "    }\n",
       "\n",
       "    .dataframe tbody tr th {\n",
       "        vertical-align: top;\n",
       "    }\n",
       "\n",
       "    .dataframe thead th {\n",
       "        text-align: right;\n",
       "    }\n",
       "</style>\n",
       "<table border=\"1\" class=\"dataframe\">\n",
       "  <thead>\n",
       "    <tr style=\"text-align: right;\">\n",
       "      <th></th>\n",
       "      <th>City</th>\n",
       "      <th>State</th>\n",
       "      <th>Type</th>\n",
       "      <th>Population [2011]</th>\n",
       "      <th>Popuation [2001]</th>\n",
       "      <th>Sex Ratio</th>\n",
       "      <th>Median Age</th>\n",
       "      <th>Avg Temp</th>\n",
       "      <th>SWM</th>\n",
       "      <th>Toilets Avl</th>\n",
       "      <th>Water Purity</th>\n",
       "      <th>H Index</th>\n",
       "      <th>Female Population</th>\n",
       "      <th># of hospitals</th>\n",
       "      <th>Foreign Visitors</th>\n",
       "      <th>Covid Cases</th>\n",
       "      <th>Rate For 10 Years(%)</th>\n",
       "    </tr>\n",
       "  </thead>\n",
       "  <tbody>\n",
       "    <tr>\n",
       "      <th>0</th>\n",
       "      <td>Mumbai</td>\n",
       "      <td>Maharashtra</td>\n",
       "      <td>MC</td>\n",
       "      <td>12442373.0</td>\n",
       "      <td>1,19,78,450</td>\n",
       "      <td>878.0</td>\n",
       "      <td>23.0</td>\n",
       "      <td>32.0</td>\n",
       "      <td>MEDIUM</td>\n",
       "      <td>219.0</td>\n",
       "      <td>150.0</td>\n",
       "      <td>0.700440</td>\n",
       "      <td>10924403.0</td>\n",
       "      <td>159.0</td>\n",
       "      <td>4408916.0</td>\n",
       "      <td>163115</td>\n",
       "      <td>3.872980</td>\n",
       "    </tr>\n",
       "    <tr>\n",
       "      <th>1</th>\n",
       "      <td>Delhi</td>\n",
       "      <td>Delhi</td>\n",
       "      <td>MC</td>\n",
       "      <td>11007835.0</td>\n",
       "      <td>98,79,172</td>\n",
       "      <td>858.0</td>\n",
       "      <td>27.0</td>\n",
       "      <td>30.0</td>\n",
       "      <td>MEDIUM</td>\n",
       "      <td>215.0</td>\n",
       "      <td>196.0</td>\n",
       "      <td>0.920018</td>\n",
       "      <td>9444722.0</td>\n",
       "      <td>148.0</td>\n",
       "      <td>2379169.0</td>\n",
       "      <td>80188</td>\n",
       "      <td>11.424672</td>\n",
       "    </tr>\n",
       "    <tr>\n",
       "      <th>2</th>\n",
       "      <td>Bangalore</td>\n",
       "      <td>Karnataka</td>\n",
       "      <td>MPUA</td>\n",
       "      <td>8436675.0</td>\n",
       "      <td>43,01,326</td>\n",
       "      <td>936.0</td>\n",
       "      <td>28.0</td>\n",
       "      <td>37.0</td>\n",
       "      <td>HIGH</td>\n",
       "      <td>212.0</td>\n",
       "      <td>102.0</td>\n",
       "      <td>0.097085</td>\n",
       "      <td>7896728.0</td>\n",
       "      <td>123.0</td>\n",
       "      <td>636502.0</td>\n",
       "      <td>141000</td>\n",
       "      <td>96.141260</td>\n",
       "    </tr>\n",
       "    <tr>\n",
       "      <th>3</th>\n",
       "      <td>Hyderabad</td>\n",
       "      <td>Telangana</td>\n",
       "      <td>MPUA</td>\n",
       "      <td>6809970.0</td>\n",
       "      <td>36,37,483</td>\n",
       "      <td>930.0</td>\n",
       "      <td>23.0</td>\n",
       "      <td>31.0</td>\n",
       "      <td>MEDIUM</td>\n",
       "      <td>217.0</td>\n",
       "      <td>118.0</td>\n",
       "      <td>0.827744</td>\n",
       "      <td>6333272.0</td>\n",
       "      <td>110.0</td>\n",
       "      <td>126078.0</td>\n",
       "      <td>55123</td>\n",
       "      <td>87.216545</td>\n",
       "    </tr>\n",
       "    <tr>\n",
       "      <th>4</th>\n",
       "      <td>Ahmedabad</td>\n",
       "      <td>Gujarat</td>\n",
       "      <td>MPUA</td>\n",
       "      <td>5570585.0</td>\n",
       "      <td>35,20,085</td>\n",
       "      <td>852.0</td>\n",
       "      <td>29.0</td>\n",
       "      <td>25.0</td>\n",
       "      <td>LOW</td>\n",
       "      <td>227.0</td>\n",
       "      <td>109.0</td>\n",
       "      <td>0.847941</td>\n",
       "      <td>4746138.0</td>\n",
       "      <td>73.0</td>\n",
       "      <td>284973.0</td>\n",
       "      <td>33204</td>\n",
       "      <td>58.251434</td>\n",
       "    </tr>\n",
       "  </tbody>\n",
       "</table>\n",
       "</div>"
      ],
      "text/plain": [
       "        City        State  Type  Population [2011] Popuation [2001]  \\\n",
       "0     Mumbai  Maharashtra    MC         12442373.0      1,19,78,450   \n",
       "1      Delhi        Delhi    MC         11007835.0        98,79,172   \n",
       "2  Bangalore    Karnataka  MPUA          8436675.0        43,01,326   \n",
       "3  Hyderabad    Telangana  MPUA          6809970.0        36,37,483   \n",
       "4  Ahmedabad      Gujarat  MPUA          5570585.0        35,20,085   \n",
       "\n",
       "   Sex Ratio  Median Age  Avg Temp     SWM  Toilets Avl  Water Purity  \\\n",
       "0      878.0        23.0      32.0  MEDIUM        219.0         150.0   \n",
       "1      858.0        27.0      30.0  MEDIUM        215.0         196.0   \n",
       "2      936.0        28.0      37.0    HIGH        212.0         102.0   \n",
       "3      930.0        23.0      31.0  MEDIUM        217.0         118.0   \n",
       "4      852.0        29.0      25.0     LOW        227.0         109.0   \n",
       "\n",
       "    H Index  Female Population  # of hospitals  Foreign Visitors  Covid Cases  \\\n",
       "0  0.700440         10924403.0           159.0         4408916.0       163115   \n",
       "1  0.920018          9444722.0           148.0         2379169.0        80188   \n",
       "2  0.097085          7896728.0           123.0          636502.0       141000   \n",
       "3  0.827744          6333272.0           110.0          126078.0        55123   \n",
       "4  0.847941          4746138.0            73.0          284973.0        33204   \n",
       "\n",
       "   Rate For 10 Years(%)  \n",
       "0              3.872980  \n",
       "1             11.424672  \n",
       "2             96.141260  \n",
       "3             87.216545  \n",
       "4             58.251434  "
      ]
     },
     "execution_count": 8,
     "metadata": {},
     "output_type": "execute_result"
    }
   ],
   "source": [
    "df.head()"
   ]
  },
  {
   "cell_type": "markdown",
   "metadata": {},
   "source": [
    "**Creating values of Population Growth rate based on the Average growth rate from train dataset for each city type**"
   ]
  },
  {
   "cell_type": "code",
   "execution_count": 9,
   "metadata": {},
   "outputs": [],
   "source": [
    "# c=0\n",
    "# for i in range(len(df)):\n",
    "#     if(df.loc[i,\"Type\"]=='TMC'):\n",
    "#         c=c+1\n",
    "#         df.loc[i,'Rate For 10 Years(%)'] = 31.5625\n",
    "\n",
    "# df['Rate For 10 Years(%)']"
   ]
  },
  {
   "cell_type": "code",
   "execution_count": 10,
   "metadata": {},
   "outputs": [],
   "source": [
    "# df['Rate For 10 Years(%)'].fillna(31.618294399999982,inplace=True)"
   ]
  },
  {
   "cell_type": "code",
   "execution_count": 11,
   "metadata": {},
   "outputs": [
    {
     "name": "stdout",
     "output_type": "stream",
     "text": [
      "<class 'pandas.core.frame.DataFrame'>\n",
      "Int64Index: 787 entries, 0 to 786\n",
      "Data columns (total 17 columns):\n",
      " #   Column                Non-Null Count  Dtype  \n",
      "---  ------                --------------  -----  \n",
      " 0   City                  787 non-null    object \n",
      " 1   State                 787 non-null    object \n",
      " 2   Type                  787 non-null    object \n",
      " 3   Population [2011]     787 non-null    float64\n",
      " 4   Popuation [2001]      323 non-null    object \n",
      " 5   Sex Ratio             777 non-null    float64\n",
      " 6   Median Age            769 non-null    float64\n",
      " 7   Avg Temp              770 non-null    float64\n",
      " 8   SWM                   783 non-null    object \n",
      " 9   Toilets Avl           761 non-null    float64\n",
      " 10  Water Purity          629 non-null    float64\n",
      " 11  H Index               647 non-null    float64\n",
      " 12  Female Population     646 non-null    float64\n",
      " 13  # of hospitals        772 non-null    float64\n",
      " 14  Foreign Visitors      697 non-null    float64\n",
      " 15  Covid Cases           787 non-null    int64  \n",
      " 16  Rate For 10 Years(%)  787 non-null    float64\n",
      "dtypes: float64(11), int64(1), object(5)\n",
      "memory usage: 110.7+ KB\n"
     ]
    }
   ],
   "source": [
    "df.info()"
   ]
  },
  {
   "cell_type": "code",
   "execution_count": 12,
   "metadata": {},
   "outputs": [],
   "source": [
    "# c=0\n",
    "# for i in range(len(df)):\n",
    "#     if(df.loc[i,\"Type\"]=='TC'):\n",
    "#         c=c+1\n",
    "#         df.loc[i,'Rate For 10 Years(%)'] = 31.618294399999982\n",
    "        \n",
    "# df['Rate For 10 Years(%)']"
   ]
  },
  {
   "cell_type": "code",
   "execution_count": 13,
   "metadata": {},
   "outputs": [],
   "source": [
    "# c=0\n",
    "# for i in range(len(df)):\n",
    "#     if(df.loc[i,\"Type\"]=='MCl'):\n",
    "#         c=c+1\n",
    "#         df.loc[i,'Rate For 10 Years(%)'] = 16.883147708955224\n",
    "        \n",
    "# df['Rate For 10 Years(%)']"
   ]
  },
  {
   "cell_type": "code",
   "execution_count": 14,
   "metadata": {},
   "outputs": [],
   "source": [
    "# c=0\n",
    "# for i in range(len(df)):\n",
    "#     if(df.loc[i,\"Type\"]=='NP'):\n",
    "#         c=c+1\n",
    "#         df.loc[i,'Rate For 10 Years(%)'] = 31.6\n",
    "        \n",
    "# df['Rate For 10 Years(%)']"
   ]
  },
  {
   "cell_type": "code",
   "execution_count": 15,
   "metadata": {},
   "outputs": [],
   "source": [
    "# c=0\n",
    "# for i in range(len(df)):\n",
    "#     if(df.loc[i,\"Type\"]=='UA'):\n",
    "#         c=c+1\n",
    "#         df.loc[i,'Rate For 10 Years(%)'] = 29.21562\n",
    "        \n",
    "# df['Rate For 10 Years(%)']"
   ]
  },
  {
   "cell_type": "code",
   "execution_count": 16,
   "metadata": {},
   "outputs": [],
   "source": [
    "# c=0\n",
    "# for i in range(len(df)):\n",
    "#     if(df.loc[i,\"Type\"]=='M'):\n",
    "#         c=c+1\n",
    "#         df.loc[i,'Rate For 10 Years(%)'] = 29.338903961101746\n",
    "        \n",
    "# df['Rate For 10 Years(%)']"
   ]
  },
  {
   "cell_type": "code",
   "execution_count": 17,
   "metadata": {},
   "outputs": [],
   "source": [
    "# c=0\n",
    "# for i in range(len(df)):\n",
    "#     if(df.loc[i,\"Type\"]=='NT'):\n",
    "#         c=c+1\n",
    "#         df.loc[i,'Rate For 10 Years(%)'] = 31.6\n",
    "        \n",
    "# df['Rate For 10 Years(%)']"
   ]
  },
  {
   "cell_type": "code",
   "execution_count": 18,
   "metadata": {},
   "outputs": [],
   "source": [
    "# c=0\n",
    "# for i in range(len(df)):\n",
    "#     if(df.loc[i,\"Type\"]=='CT'):\n",
    "#         c=c+1\n",
    "#         df.loc[i,'Rate For 10 Years(%)'] = 31.6\n",
    "        \n",
    "# df['Rate For 10 Years(%)']"
   ]
  },
  {
   "cell_type": "code",
   "execution_count": 19,
   "metadata": {},
   "outputs": [],
   "source": [
    "# c=0\n",
    "# for i in range(len(df)):\n",
    "#     if(df.loc[i,\"Type\"]=='MB'):\n",
    "#         c=c+1\n",
    "#         df.loc[i,'Rate For 10 Years(%)'] = 30.16\n",
    "        \n",
    "# df['Rate For 10 Years(%)']"
   ]
  },
  {
   "cell_type": "code",
   "execution_count": 20,
   "metadata": {},
   "outputs": [],
   "source": [
    "# c=0\n",
    "# for i in range(len(df)):\n",
    "#     if(df.loc[i,\"Type\"]=='NPP'):\n",
    "#         c=c+1\n",
    "#         df.loc[i,'Rate For 10 Years(%)'] = 31.61829439999998\n",
    "        \n",
    "# df['Rate For 10 Years(%)']"
   ]
  },
  {
   "cell_type": "code",
   "execution_count": 21,
   "metadata": {},
   "outputs": [],
   "source": [
    "# c=0\n",
    "# for i in range(len(df)):\n",
    "#     if(df.loc[i,\"Type\"]=='CT'):\n",
    "#         c=c+1\n",
    "#         df.loc[i,'Rate For 10 Years(%)'] = 31.61829439999998\n",
    "        \n",
    "# df['Rate For 10 Years(%)']"
   ]
  },
  {
   "cell_type": "code",
   "execution_count": 22,
   "metadata": {},
   "outputs": [],
   "source": [
    "# c=0\n",
    "# for i in range(len(df)):\n",
    "#     if(df.loc[i,\"Type\"]=='MC'):\n",
    "#         c=c+1\n",
    "#         df.loc[i,'Rate For 10 Years(%)'] = 10.345858915285714\n",
    "        \n",
    "# df['Rate For 10 Years(%)']"
   ]
  },
  {
   "cell_type": "code",
   "execution_count": 23,
   "metadata": {},
   "outputs": [],
   "source": [
    "# c=0\n",
    "# for i in range(len(df)):\n",
    "#     if(df.loc[i,\"Type\"]=='TP'):\n",
    "#         c=c+1\n",
    "#         df.loc[i,'Rate For 10 Years(%)'] = 31.61829439999998\n",
    "        \n",
    "# df['Rate For 10 Years(%)']"
   ]
  },
  {
   "cell_type": "code",
   "execution_count": 24,
   "metadata": {},
   "outputs": [],
   "source": [
    "# c=0\n",
    "# for i in range(len(df)):\n",
    "#     if(df.loc[i,\"Type\"]=='NA'):\n",
    "#         c=c+1\n",
    "#         df.loc[i,'Rate For 10 Years(%)'] = 30.15263\n",
    "        \n",
    "# df['Rate For 10 Years(%)']"
   ]
  },
  {
   "cell_type": "code",
   "execution_count": 25,
   "metadata": {},
   "outputs": [],
   "source": [
    "# c=0\n",
    "# for i in range(len(df)):\n",
    "#     if(df.loc[i,\"Type\"]=='MB'):\n",
    "#         c=c+1\n",
    "#         df.loc[i,'Rate For 10 Years(%)'] = 31.61829439999998\n",
    "        \n",
    "# df['Rate For 10 Years(%)']"
   ]
  },
  {
   "cell_type": "code",
   "execution_count": 26,
   "metadata": {
    "scrolled": false
   },
   "outputs": [],
   "source": [
    "# c=0\n",
    "# for i in range(len(df)):\n",
    "#     if(df.loc[i,\"Type\"]=='INA' or df.loc[i,\"Type\"]=='NAC' or df.loc[i,\"Type\"]=='GP'):\n",
    "#         c=c+1\n",
    "#         df.loc[i,'Rate For 10 Years(%)'] = 31.61829439999998\n",
    "        \n",
    "# df['Rate For 10 Years(%)'][:100]"
   ]
  },
  {
   "cell_type": "code",
   "execution_count": 27,
   "metadata": {
    "scrolled": true
   },
   "outputs": [],
   "source": [
    "# df['Rate For 10 Years(%)'].value_counts()"
   ]
  },
  {
   "cell_type": "markdown",
   "metadata": {},
   "source": [
    "**Calculating the growth rate for each city**"
   ]
  },
  {
   "cell_type": "code",
   "execution_count": 28,
   "metadata": {},
   "outputs": [],
   "source": [
    "for i in range(len(df)):\n",
    "    val = 0\n",
    "    val1 = 0\n",
    "    val2 = 0\n",
    "    pop1 = df['Population [2011]']\n",
    "    pop2 = df['Popuation [2001]']\n",
    "    \n",
    "#     val = ((pop1-pop2)/pop2)*100\n",
    "    val = df['Rate For 10 Years(%)']\n",
    "    val1 = val/10\n",
    "    val2 = val1/12\n",
    "    npop21=(pop1*val)/100\n",
    "    popgr21=npop21+pop1\n",
    "    gror20=val1*9\n",
    "    newpop20 = (gror20*pop1)/100\n",
    "    popgr20 = newpop20+pop1\n",
    "    \n",
    "    gror19=val1*8\n",
    "    newpop19 = (gror19*pop1)/100\n",
    "    popgr19 = newpop19+pop1\n",
    "    \n",
    "    jantoaug = val2*8\n",
    "    poptillaug20 = (popgr20*jantoaug)/100\n",
    "    popestaug20 = poptillaug20 + popgr20\n",
    "    \n",
    "#     df['Rate For 10 Years(%)'] = val\n",
    "    df['Rate for 1 Year(%)']=val1\n",
    "    df['Rate for 1 Month(%)']=val2\n",
    "    \n",
    "    df['New Population for 2021']=npop21\n",
    "    df['Population Estimated for 2021']=popgr21\n",
    "    \n",
    "    df['Growth Rate till 2020']=gror20\n",
    "    df['New Population till 2020']=newpop20\n",
    "    df['Population Estimated for 2020']=popgr20\n",
    "    \n",
    "    df['Growth Rate till 2019']=gror19\n",
    "    df['New Population till 2019']=newpop19\n",
    "    df['Population Estimated for 2019']=popgr19\n",
    "    \n",
    "    df['Rate For Jan to Aug(%)']=jantoaug\n",
    "    df['New Population for 2020 Aug']=poptillaug20\n",
    "    df['Population Estimated for 2020 Till Aug']=popestaug20"
   ]
  },
  {
   "cell_type": "code",
   "execution_count": 29,
   "metadata": {},
   "outputs": [
    {
     "data": {
      "text/html": [
       "<div>\n",
       "<style scoped>\n",
       "    .dataframe tbody tr th:only-of-type {\n",
       "        vertical-align: middle;\n",
       "    }\n",
       "\n",
       "    .dataframe tbody tr th {\n",
       "        vertical-align: top;\n",
       "    }\n",
       "\n",
       "    .dataframe thead th {\n",
       "        text-align: right;\n",
       "    }\n",
       "</style>\n",
       "<table border=\"1\" class=\"dataframe\">\n",
       "  <thead>\n",
       "    <tr style=\"text-align: right;\">\n",
       "      <th></th>\n",
       "      <th>City</th>\n",
       "      <th>State</th>\n",
       "      <th>Type</th>\n",
       "      <th>Population [2011]</th>\n",
       "      <th>Popuation [2001]</th>\n",
       "      <th>Sex Ratio</th>\n",
       "      <th>Median Age</th>\n",
       "      <th>Avg Temp</th>\n",
       "      <th>SWM</th>\n",
       "      <th>Toilets Avl</th>\n",
       "      <th>...</th>\n",
       "      <th>Population Estimated for 2021</th>\n",
       "      <th>Growth Rate till 2020</th>\n",
       "      <th>New Population till 2020</th>\n",
       "      <th>Population Estimated for 2020</th>\n",
       "      <th>Growth Rate till 2019</th>\n",
       "      <th>New Population till 2019</th>\n",
       "      <th>Population Estimated for 2019</th>\n",
       "      <th>Rate For Jan to Aug(%)</th>\n",
       "      <th>New Population for 2020 Aug</th>\n",
       "      <th>Population Estimated for 2020 Till Aug</th>\n",
       "    </tr>\n",
       "  </thead>\n",
       "  <tbody>\n",
       "    <tr>\n",
       "      <th>0</th>\n",
       "      <td>Mumbai</td>\n",
       "      <td>Maharashtra</td>\n",
       "      <td>MC</td>\n",
       "      <td>12442373.0</td>\n",
       "      <td>1,19,78,450</td>\n",
       "      <td>878.0</td>\n",
       "      <td>23.0</td>\n",
       "      <td>32.0</td>\n",
       "      <td>MEDIUM</td>\n",
       "      <td>219.0</td>\n",
       "      <td>...</td>\n",
       "      <td>1.292426e+07</td>\n",
       "      <td>3.485682</td>\n",
       "      <td>4.337016e+05</td>\n",
       "      <td>1.287607e+07</td>\n",
       "      <td>3.098384</td>\n",
       "      <td>3.855125e+05</td>\n",
       "      <td>1.282789e+07</td>\n",
       "      <td>0.258199</td>\n",
       "      <td>3.324585e+04</td>\n",
       "      <td>1.290932e+07</td>\n",
       "    </tr>\n",
       "    <tr>\n",
       "      <th>1</th>\n",
       "      <td>Delhi</td>\n",
       "      <td>Delhi</td>\n",
       "      <td>MC</td>\n",
       "      <td>11007835.0</td>\n",
       "      <td>98,79,172</td>\n",
       "      <td>858.0</td>\n",
       "      <td>27.0</td>\n",
       "      <td>30.0</td>\n",
       "      <td>MEDIUM</td>\n",
       "      <td>215.0</td>\n",
       "      <td>...</td>\n",
       "      <td>1.226544e+07</td>\n",
       "      <td>10.282205</td>\n",
       "      <td>1.131848e+06</td>\n",
       "      <td>1.213968e+07</td>\n",
       "      <td>9.139738</td>\n",
       "      <td>1.006087e+06</td>\n",
       "      <td>1.201392e+07</td>\n",
       "      <td>0.761645</td>\n",
       "      <td>9.246127e+04</td>\n",
       "      <td>1.223214e+07</td>\n",
       "    </tr>\n",
       "    <tr>\n",
       "      <th>2</th>\n",
       "      <td>Bangalore</td>\n",
       "      <td>Karnataka</td>\n",
       "      <td>MPUA</td>\n",
       "      <td>8436675.0</td>\n",
       "      <td>43,01,326</td>\n",
       "      <td>936.0</td>\n",
       "      <td>28.0</td>\n",
       "      <td>37.0</td>\n",
       "      <td>HIGH</td>\n",
       "      <td>212.0</td>\n",
       "      <td>...</td>\n",
       "      <td>1.654780e+07</td>\n",
       "      <td>86.527134</td>\n",
       "      <td>7.300013e+06</td>\n",
       "      <td>1.573669e+07</td>\n",
       "      <td>76.913008</td>\n",
       "      <td>6.488900e+06</td>\n",
       "      <td>1.492558e+07</td>\n",
       "      <td>6.409417</td>\n",
       "      <td>1.008630e+06</td>\n",
       "      <td>1.674532e+07</td>\n",
       "    </tr>\n",
       "    <tr>\n",
       "      <th>3</th>\n",
       "      <td>Hyderabad</td>\n",
       "      <td>Telangana</td>\n",
       "      <td>MPUA</td>\n",
       "      <td>6809970.0</td>\n",
       "      <td>36,37,483</td>\n",
       "      <td>930.0</td>\n",
       "      <td>23.0</td>\n",
       "      <td>31.0</td>\n",
       "      <td>MEDIUM</td>\n",
       "      <td>217.0</td>\n",
       "      <td>...</td>\n",
       "      <td>1.274939e+07</td>\n",
       "      <td>78.494891</td>\n",
       "      <td>5.345478e+06</td>\n",
       "      <td>1.215545e+07</td>\n",
       "      <td>69.773236</td>\n",
       "      <td>4.751536e+06</td>\n",
       "      <td>1.156151e+07</td>\n",
       "      <td>5.814436</td>\n",
       "      <td>7.067708e+05</td>\n",
       "      <td>1.286222e+07</td>\n",
       "    </tr>\n",
       "    <tr>\n",
       "      <th>4</th>\n",
       "      <td>Ahmedabad</td>\n",
       "      <td>Gujarat</td>\n",
       "      <td>MPUA</td>\n",
       "      <td>5570585.0</td>\n",
       "      <td>35,20,085</td>\n",
       "      <td>852.0</td>\n",
       "      <td>29.0</td>\n",
       "      <td>25.0</td>\n",
       "      <td>LOW</td>\n",
       "      <td>227.0</td>\n",
       "      <td>...</td>\n",
       "      <td>8.815531e+06</td>\n",
       "      <td>52.426291</td>\n",
       "      <td>2.920451e+06</td>\n",
       "      <td>8.491036e+06</td>\n",
       "      <td>46.601147</td>\n",
       "      <td>2.595957e+06</td>\n",
       "      <td>8.166542e+06</td>\n",
       "      <td>3.883429</td>\n",
       "      <td>3.297434e+05</td>\n",
       "      <td>8.820779e+06</td>\n",
       "    </tr>\n",
       "  </tbody>\n",
       "</table>\n",
       "<p>5 rows × 30 columns</p>\n",
       "</div>"
      ],
      "text/plain": [
       "        City        State  Type  Population [2011] Popuation [2001]  \\\n",
       "0     Mumbai  Maharashtra    MC         12442373.0      1,19,78,450   \n",
       "1      Delhi        Delhi    MC         11007835.0        98,79,172   \n",
       "2  Bangalore    Karnataka  MPUA          8436675.0        43,01,326   \n",
       "3  Hyderabad    Telangana  MPUA          6809970.0        36,37,483   \n",
       "4  Ahmedabad      Gujarat  MPUA          5570585.0        35,20,085   \n",
       "\n",
       "   Sex Ratio  Median Age  Avg Temp     SWM  Toilets Avl  ...  \\\n",
       "0      878.0        23.0      32.0  MEDIUM        219.0  ...   \n",
       "1      858.0        27.0      30.0  MEDIUM        215.0  ...   \n",
       "2      936.0        28.0      37.0    HIGH        212.0  ...   \n",
       "3      930.0        23.0      31.0  MEDIUM        217.0  ...   \n",
       "4      852.0        29.0      25.0     LOW        227.0  ...   \n",
       "\n",
       "   Population Estimated for 2021  Growth Rate till 2020  \\\n",
       "0                   1.292426e+07               3.485682   \n",
       "1                   1.226544e+07              10.282205   \n",
       "2                   1.654780e+07              86.527134   \n",
       "3                   1.274939e+07              78.494891   \n",
       "4                   8.815531e+06              52.426291   \n",
       "\n",
       "   New Population till 2020  Population Estimated for 2020  \\\n",
       "0              4.337016e+05                   1.287607e+07   \n",
       "1              1.131848e+06                   1.213968e+07   \n",
       "2              7.300013e+06                   1.573669e+07   \n",
       "3              5.345478e+06                   1.215545e+07   \n",
       "4              2.920451e+06                   8.491036e+06   \n",
       "\n",
       "   Growth Rate till 2019  New Population till 2019  \\\n",
       "0               3.098384              3.855125e+05   \n",
       "1               9.139738              1.006087e+06   \n",
       "2              76.913008              6.488900e+06   \n",
       "3              69.773236              4.751536e+06   \n",
       "4              46.601147              2.595957e+06   \n",
       "\n",
       "   Population Estimated for 2019  Rate For Jan to Aug(%)  \\\n",
       "0                   1.282789e+07                0.258199   \n",
       "1                   1.201392e+07                0.761645   \n",
       "2                   1.492558e+07                6.409417   \n",
       "3                   1.156151e+07                5.814436   \n",
       "4                   8.166542e+06                3.883429   \n",
       "\n",
       "   New Population for 2020 Aug  Population Estimated for 2020 Till Aug  \n",
       "0                 3.324585e+04                            1.290932e+07  \n",
       "1                 9.246127e+04                            1.223214e+07  \n",
       "2                 1.008630e+06                            1.674532e+07  \n",
       "3                 7.067708e+05                            1.286222e+07  \n",
       "4                 3.297434e+05                            8.820779e+06  \n",
       "\n",
       "[5 rows x 30 columns]"
      ]
     },
     "execution_count": 29,
     "metadata": {},
     "output_type": "execute_result"
    }
   ],
   "source": [
    "df.head()"
   ]
  },
  {
   "cell_type": "code",
   "execution_count": 30,
   "metadata": {},
   "outputs": [
    {
     "name": "stdout",
     "output_type": "stream",
     "text": [
      "<class 'pandas.core.frame.DataFrame'>\n",
      "Int64Index: 787 entries, 0 to 786\n",
      "Data columns (total 30 columns):\n",
      " #   Column                                  Non-Null Count  Dtype  \n",
      "---  ------                                  --------------  -----  \n",
      " 0   City                                    787 non-null    object \n",
      " 1   State                                   787 non-null    object \n",
      " 2   Type                                    787 non-null    object \n",
      " 3   Population [2011]                       787 non-null    float64\n",
      " 4   Popuation [2001]                        323 non-null    object \n",
      " 5   Sex Ratio                               777 non-null    float64\n",
      " 6   Median Age                              769 non-null    float64\n",
      " 7   Avg Temp                                770 non-null    float64\n",
      " 8   SWM                                     783 non-null    object \n",
      " 9   Toilets Avl                             761 non-null    float64\n",
      " 10  Water Purity                            629 non-null    float64\n",
      " 11  H Index                                 647 non-null    float64\n",
      " 12  Female Population                       646 non-null    float64\n",
      " 13  # of hospitals                          772 non-null    float64\n",
      " 14  Foreign Visitors                        697 non-null    float64\n",
      " 15  Covid Cases                             787 non-null    int64  \n",
      " 16  Rate For 10 Years(%)                    787 non-null    float64\n",
      " 17  Rate for 1 Year(%)                      787 non-null    float64\n",
      " 18  Rate for 1 Month(%)                     787 non-null    float64\n",
      " 19  New Population for 2021                 787 non-null    float64\n",
      " 20  Population Estimated for 2021           787 non-null    float64\n",
      " 21  Growth Rate till 2020                   787 non-null    float64\n",
      " 22  New Population till 2020                787 non-null    float64\n",
      " 23  Population Estimated for 2020           787 non-null    float64\n",
      " 24  Growth Rate till 2019                   787 non-null    float64\n",
      " 25  New Population till 2019                787 non-null    float64\n",
      " 26  Population Estimated for 2019           787 non-null    float64\n",
      " 27  Rate For Jan to Aug(%)                  787 non-null    float64\n",
      " 28  New Population for 2020 Aug             787 non-null    float64\n",
      " 29  Population Estimated for 2020 Till Aug  787 non-null    float64\n",
      "dtypes: float64(24), int64(1), object(5)\n",
      "memory usage: 190.6+ KB\n"
     ]
    }
   ],
   "source": [
    "df.info()"
   ]
  },
  {
   "cell_type": "code",
   "execution_count": 31,
   "metadata": {
    "scrolled": false
   },
   "outputs": [
    {
     "name": "stdout",
     "output_type": "stream",
     "text": [
      "3.8729802269999998\n",
      "11.42467203\n",
      "96.1412597\n",
      "87.21654507\n",
      "58.25143427\n",
      "7.768636709\n",
      "26.79166658\n",
      "-1.8849625490000002\n",
      "83.57025024\n",
      "23.08415335\n"
     ]
    }
   ],
   "source": [
    "for i in range(10):\n",
    "    print(df.loc[i,\"Rate For 10 Years(%)\"])"
   ]
  },
  {
   "cell_type": "code",
   "execution_count": 32,
   "metadata": {
    "scrolled": true
   },
   "outputs": [
    {
     "data": {
      "text/plain": [
       "Index(['City', 'State', 'Type', 'Population [2011]', 'Popuation [2001]',\n",
       "       'Sex Ratio', 'Median Age', 'Avg Temp', 'SWM', 'Toilets Avl',\n",
       "       'Water Purity', 'H Index', 'Female Population', '# of hospitals',\n",
       "       'Foreign Visitors', 'Covid Cases', 'Rate For 10 Years(%)',\n",
       "       'Rate for 1 Year(%)', 'Rate for 1 Month(%)', 'New Population for 2021',\n",
       "       'Population Estimated for 2021', 'Growth Rate till 2020',\n",
       "       'New Population till 2020', 'Population Estimated for 2020',\n",
       "       'Growth Rate till 2019', 'New Population till 2019',\n",
       "       'Population Estimated for 2019', 'Rate For Jan to Aug(%)',\n",
       "       'New Population for 2020 Aug',\n",
       "       'Population Estimated for 2020 Till Aug'],\n",
       "      dtype='object')"
      ]
     },
     "execution_count": 32,
     "metadata": {},
     "output_type": "execute_result"
    }
   ],
   "source": [
    "df.columns"
   ]
  },
  {
   "cell_type": "code",
   "execution_count": 33,
   "metadata": {},
   "outputs": [],
   "source": [
    "cols = ['City', 'Type', \n",
    "        'Median Age', 'Avg Temp', 'SWM', 'Toilets Avl',\n",
    "       'Water Purity', 'H Index', '# of hospitals',\n",
    "       'Foreign Visitors', 'Population Estimated for 2020 Till Aug']\n",
    "\n",
    "df = df[cols]"
   ]
  },
  {
   "cell_type": "code",
   "execution_count": 34,
   "metadata": {},
   "outputs": [],
   "source": [
    "swm_categories = {\"HIGH\":0 ,\"MEDIUM\":1 ,\"LOW\":2}\n",
    "df['SWM'] = df['SWM'].map(swm_categories)\n",
    "df.loc[df['Type'] == \"nagarparishad\", \"Type\"] = 'npd'\n",
    "type_categories = dict(zip(set(df['Type']),list(range(len(set(df['Type']))))))\n",
    "df['Type'] = df['Type'].map(type_categories)"
   ]
  },
  {
   "cell_type": "code",
   "execution_count": 35,
   "metadata": {},
   "outputs": [],
   "source": [
    "df.columns = [\"city\", \"city_type\", \"median_age\", \"avg_temp\", \"swm\", \"toilets_avl\", \"water_purity\", \"h_index\", \"hospitals\", \"foreign_visitors\", \"population_till_aug\"]\n"
   ]
  },
  {
   "cell_type": "code",
   "execution_count": 36,
   "metadata": {},
   "outputs": [
    {
     "name": "stdout",
     "output_type": "stream",
     "text": [
      "<class 'pandas.core.frame.DataFrame'>\n",
      "Int64Index: 787 entries, 0 to 786\n",
      "Data columns (total 11 columns):\n",
      " #   Column               Non-Null Count  Dtype  \n",
      "---  ------               --------------  -----  \n",
      " 0   city                 787 non-null    object \n",
      " 1   city_type            787 non-null    int64  \n",
      " 2   median_age           769 non-null    float64\n",
      " 3   avg_temp             770 non-null    float64\n",
      " 4   swm                  783 non-null    float64\n",
      " 5   toilets_avl          761 non-null    float64\n",
      " 6   water_purity         629 non-null    float64\n",
      " 7   h_index              647 non-null    float64\n",
      " 8   hospitals            772 non-null    float64\n",
      " 9   foreign_visitors     697 non-null    float64\n",
      " 10  population_till_aug  787 non-null    float64\n",
      "dtypes: float64(9), int64(1), object(1)\n",
      "memory usage: 93.8+ KB\n"
     ]
    }
   ],
   "source": [
    "df.info()"
   ]
  },
  {
   "cell_type": "markdown",
   "metadata": {},
   "source": [
    "**Saving the final csv file**"
   ]
  },
  {
   "cell_type": "code",
   "execution_count": null,
   "metadata": {},
   "outputs": [],
   "source": [
    "df.to_csv('TrainDataFinal.csv')"
   ]
  },
  {
   "cell_type": "code",
   "execution_count": null,
   "metadata": {},
   "outputs": [],
   "source": []
  }
 ],
 "metadata": {
  "kernelspec": {
   "display_name": "Python 3",
   "language": "python",
   "name": "python3"
  },
  "language_info": {
   "codemirror_mode": {
    "name": "ipython",
    "version": 3
   },
   "file_extension": ".py",
   "mimetype": "text/x-python",
   "name": "python",
   "nbconvert_exporter": "python",
   "pygments_lexer": "ipython3",
   "version": "3.7.7"
  }
 },
 "nbformat": 4,
 "nbformat_minor": 4
}
